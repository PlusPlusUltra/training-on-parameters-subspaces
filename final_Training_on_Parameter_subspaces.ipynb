{
  "nbformat": 4,
  "nbformat_minor": 0,
  "metadata": {
    "colab": {
      "provenance": [],
      "gpuType": "T4"
    },
    "kernelspec": {
      "name": "python3",
      "display_name": "Python 3"
    },
    "language_info": {
      "name": "python"
    },
    "accelerator": "GPU"
  },
  "cells": [
    {
      "cell_type": "markdown",
      "metadata": {
        "id": "akkVwdM7rUVn"
      },
      "source": [
        "Training on Parameter subspaces"
      ]
    },
    {
      "cell_type": "markdown",
      "metadata": {
        "id": "fpDQvf9_rUVo"
      },
      "source": [
        "Importing libraries"
      ]
    },
    {
      "cell_type": "code",
      "execution_count": 1,
      "metadata": {
        "id": "BkzKP3NZrUVo"
      },
      "outputs": [],
      "source": [
        "!pip install -q hadamard-transform\n",
        "!pip install -q torch-dct"
      ]
    },
    {
      "cell_type": "code",
      "execution_count": 2,
      "metadata": {
        "id": "xYrXvMRQwJEn"
      },
      "outputs": [],
      "source": [
        "import torch\n",
        "from torch import nn\n",
        "import math\n",
        "from math import sqrt\n",
        "import time\n",
        "from sympy import fwht\n",
        "import random\n",
        "import torch.nn.functional as F\n",
        "from tqdm.notebook import tqdm as tqdm\n",
        "from torch.utils.data import DataLoader\n",
        "import scipy\n",
        "import numpy as np\n",
        "from scipy.linalg import orth\n",
        "import torchvision\n",
        "import torchvision.transforms as transforms\n",
        "import torch.optim as optim\n",
        "from hadamard_transform import hadamard_transform, pad_to_power_of_2\n",
        "import torch_dct as dct\n",
        "import scipy"
      ]
    },
    {
      "cell_type": "code",
      "execution_count": 3,
      "metadata": {
        "id": "8G2rWIyxiLH3"
      },
      "outputs": [],
      "source": [
        "dev = torch.device(\"cuda\") if torch.cuda.is_available() else torch.device(\"cpu\")"
      ]
    },
    {
      "cell_type": "markdown",
      "metadata": {
        "id": "n5EhMGynCToa"
      },
      "source": [
        "Defining functions"
      ]
    },
    {
      "cell_type": "code",
      "execution_count": 4,
      "metadata": {
        "id": "fuETSHThCZG6"
      },
      "outputs": [],
      "source": [
        "def dense_matrix (D,d): #this returns a dense projection matrix\n",
        "  mat = torch.rand(D,d)\n",
        "  mat = torch.nn.functional.normalize(mat, p=2.0, dim = 0)\n",
        "  return mat"
      ]
    },
    {
      "cell_type": "code",
      "execution_count": 5,
      "metadata": {
        "id": "8gWMloYQCvQo"
      },
      "outputs": [],
      "source": [
        "def sparse_matrix(D,d): #this returns a sparse projection matrix. The other kinds of projection matrices will be defined later\n",
        "  mat = torch.rand(D,d)\n",
        "  mat = torch.nn.functional.normalize(mat, p=2.0, dim = 0)\n",
        "  non_zero_prob = 1/math.sqrt(D)\n",
        "  mat = mat/non_zero_prob\n",
        "  mat = torch.nn.functional.dropout(mat, p=(1-non_zero_prob)).to_sparse()\n",
        "  return mat"
      ]
    },
    {
      "cell_type": "code",
      "source": [
        "class myLinearDenseModel(nn.Module): #this is a fully connected model,\n",
        "  def __init__(self, input_dimension, d, n_hidden_layers = 4, hidden_dim = 32, output_dim = 1, device = \"cpu\"):\n",
        "    super().__init__()\n",
        "    self.d = d\n",
        "    #theta is the shared weight. It is initialized as 0. First i define all the layers of the network.\n",
        "    self.theta = nn.Parameter(torch.randn(d))\n",
        "    self.n_hidden_layers = n_hidden_layers\n",
        "    self.hidden_dim = hidden_dim\n",
        "    self.input_dimension = input_dimension\n",
        "    self.output_dim = output_dim\n",
        "\n",
        "    #then I precompute the dimension of the weights of the single layers. This will be useful when\n",
        "    #each layer will need as input its part of the shared weight\n",
        "    first_layer_weight_D = input_dimension * hidden_dim\n",
        "    first_layer_bias_D = hidden_dim\n",
        "    hidden_layers_weight_D = hidden_dim * hidden_dim\n",
        "    hidden_layers_bias_D = hidden_dim\n",
        "    last_layer_weight_D = hidden_dim * output_dim\n",
        "    last_layer_bias_D = output_dim\n",
        "\n",
        "    self.D = first_layer_weight_D + first_layer_bias_D + hidden_layers_weight_D*n_hidden_layers + hidden_layers_bias_D*n_hidden_layers + last_layer_weight_D + last_layer_bias_D\n",
        "    self.projection = dense_matrix(self.D, self.d) #this is the projection matrix. Its type changes depending on the kind of network.\n",
        "\n",
        "\n",
        "    start_counter = 0\n",
        "    end_counter = 0\n",
        "    end_counter += first_layer_weight_D\n",
        "    self.first_layer_weight_edges = ((0,end_counter))\n",
        "    start_counter = end_counter\n",
        "    end_counter += first_layer_bias_D\n",
        "    self.first_layer_bias_edges = (start_counter, end_counter)\n",
        "    start_counter = end_counter\n",
        "    self.hidden_layers_weight_edges = []\n",
        "    self.hidden_layers_bias_edges = []\n",
        "    for i in range(n_hidden_layers):\n",
        "      end_counter += hidden_layers_weight_D\n",
        "      self.hidden_layers_weight_edges.append((start_counter, end_counter))\n",
        "      start_counter = end_counter\n",
        "      end_counter += hidden_layers_bias_D\n",
        "      self.hidden_layers_bias_edges.append((start_counter, end_counter))\n",
        "      start_counter = end_counter\n",
        "\n",
        "    end_counter += last_layer_weight_D\n",
        "    self.last_layer_weight_edges = ((start_counter, end_counter))\n",
        "    start_counter = end_counter\n",
        "    end_counter +=last_layer_bias_D\n",
        "    self.last_layer_bias_edges = ((start_counter, end_counter))\n",
        "    start_counter = end_counter\n",
        "\n",
        "    self.projection = self.projection.to(device)\n",
        "    ####\n",
        "\n",
        "\n",
        "\n",
        "  def forward(self, x):\n",
        "\n",
        "\n",
        "    big_theta = self.projection @ self.theta\n",
        "    big_theta = big_theta/big_theta.std()\n",
        "    big_theta = big_theta - big_theta.mean()\n",
        "\n",
        "    #the first thing to do at each call, I need to compute the weights for the whole network, from my subset of trainable weights.\n",
        "    #each layer is given its part.\n",
        "\n",
        "    first_layer_theta_weight = torch.reshape(big_theta[self.first_layer_weight_edges[0]:self.first_layer_weight_edges[1]], (self.hidden_dim, self.input_dimension))\n",
        "    first_layer_theta_bias = big_theta[self.first_layer_bias_edges[0]:self.first_layer_bias_edges[1]]\n",
        "    hidden_layers_theta_weight = []\n",
        "    hidden_layers_theta_bias = []\n",
        "    for i in range(self.n_hidden_layers):\n",
        "\n",
        "      hidden_layers_theta_weight.append(torch.reshape(big_theta[self.hidden_layers_weight_edges[i][0]:self.hidden_layers_weight_edges[i][1]],(self.hidden_dim, self.hidden_dim)))\n",
        "      hidden_layers_theta_bias.append(big_theta[self.hidden_layers_bias_edges[i][0]:self.hidden_layers_bias_edges[i][1]])\n",
        "\n",
        "    last_layer_theta_weight = torch.reshape(big_theta[self.last_layer_weight_edges[0]:self.last_layer_weight_edges[1]], (self.output_dim, self.hidden_dim))\n",
        "    last_layer_theta_bias = big_theta[self.last_layer_bias_edges[0]:self.last_layer_bias_edges[1]]\n",
        "\n",
        "    y = F.linear(x, first_layer_theta_weight/math.sqrt(first_layer_theta_weight.shape[1]), first_layer_theta_bias/math.sqrt(first_layer_theta_weight.shape[1]))\n",
        "    y = F.relu(y)\n",
        "    for i in range(self.n_hidden_layers):\n",
        "      y = F.linear(y,hidden_layers_theta_weight[i]/math.sqrt(hidden_layers_theta_weight[i].shape[1]), hidden_layers_theta_bias[i]/math.sqrt(hidden_layers_theta_weight[i].shape[1]))\n",
        "      y = F.relu(y)\n",
        "\n",
        "    y = F.linear(y, last_layer_theta_weight/math.sqrt(last_layer_theta_weight.shape[1]), last_layer_theta_bias/math.sqrt(last_layer_theta_weight.shape[1]))\n",
        "    return y\n",
        "\n"
      ],
      "metadata": {
        "id": "prQl3H0rrOYf"
      },
      "execution_count": 6,
      "outputs": []
    },
    {
      "cell_type": "code",
      "source": [
        "class myDenseLeNet(nn.Module):\n",
        "  def __init__(self, d, in_channels = 1, out_channels = 16, input_dimension = 28, n_convolutions = 2, hidden_dim = 120, n_hidden_layers = 2, output_dim = 10, device = \"cpu\"):\n",
        "    super().__init__()\n",
        "    self.d = d\n",
        "    #this is the convolutional network. It works in the same way as the fully connected one.\n",
        "    self.theta = nn.Parameter(torch.randn(d))\n",
        "    self.n_convolutions = n_convolutions\n",
        "    self.hidden_dim = hidden_dim\n",
        "    self.n_hidden_layers = n_hidden_layers\n",
        "    self.input_dimension = input_dimension\n",
        "    self.in_channels = in_channels\n",
        "    self.out_channels = out_channels\n",
        "    self.output_dim = output_dim\n",
        "    self.flatten_dim = int(out_channels*(input_dimension/2**n_convolutions)*(input_dimension/2**n_convolutions))\n",
        "\n",
        "    first_convolution_weight_D = 6* in_channels*5*5\n",
        "    first_convolution_bias_D = 6\n",
        "    second_convolution_weight_D = out_channels*6*5*5\n",
        "    second_convolution_bias_D = out_channels\n",
        "    hidden_layers_weight_D = hidden_dim * hidden_dim\n",
        "    hidden_layers_bias_D = hidden_dim\n",
        "    last_layer_weight_D = hidden_dim * output_dim\n",
        "    last_layer_bias_D = output_dim\n",
        "\n",
        "    self.D = (first_convolution_weight_D + first_convolution_bias_D + second_convolution_weight_D + second_convolution_bias_D + hidden_layers_weight_D*(n_hidden_layers-1) +\n",
        "    hidden_layers_bias_D*n_hidden_layers + self.flatten_dim*self.hidden_dim + last_layer_weight_D + last_layer_bias_D)\n",
        "    self.projection = dense_matrix(self.D, self.d)\n",
        "\n",
        "    #counters are, start included, end excluded\n",
        "    start_counter = 0\n",
        "    end_counter = 0\n",
        "    end_counter += first_convolution_weight_D\n",
        "    self.first_convolution_weight_edges = ((0,end_counter))\n",
        "    start_counter = end_counter\n",
        "    end_counter += first_convolution_bias_D\n",
        "    self.first_convolution_bias_edges = (start_counter, end_counter)\n",
        "    start_counter = end_counter\n",
        "    end_counter += second_convolution_weight_D\n",
        "    self.second_convolution_weight_edges = ((start_counter,end_counter))\n",
        "    start_counter = end_counter\n",
        "    end_counter += second_convolution_bias_D\n",
        "    self.second_convolution_bias_edges = (start_counter, end_counter)\n",
        "    start_counter = end_counter\n",
        "    self.hidden_layers_weight_edges = []\n",
        "    self.hidden_layers_bias_edges = []\n",
        "    for i in range(n_hidden_layers):\n",
        "      if i == 0:\n",
        "        end_counter += self.flatten_dim*hidden_dim\n",
        "\n",
        "        self.hidden_layers_weight_edges.append((start_counter, end_counter))\n",
        "        start_counter = end_counter\n",
        "        end_counter += hidden_layers_bias_D\n",
        "        self.hidden_layers_bias_edges.append((start_counter, end_counter))\n",
        "        start_counter = end_counter\n",
        "      else:\n",
        "        end_counter += hidden_layers_weight_D\n",
        "        self.hidden_layers_weight_edges.append((start_counter, end_counter))\n",
        "        start_counter = end_counter\n",
        "        end_counter += hidden_layers_bias_D\n",
        "        self.hidden_layers_bias_edges.append((start_counter, end_counter))\n",
        "        start_counter = end_counter\n",
        "\n",
        "    end_counter += last_layer_weight_D\n",
        "    self.last_layer_weight_edges = ((start_counter, end_counter))\n",
        "    start_counter = end_counter\n",
        "    end_counter +=last_layer_bias_D\n",
        "    self.last_layer_bias_edges = ((start_counter, end_counter))\n",
        "    start_counter = end_counter\n",
        "\n",
        "    self.projection = self.projection.to(dev)\n",
        "\n",
        "  def forward(self, x):\n",
        "\n",
        "    big_theta = self.projection @ self.theta\n",
        "    big_theta = big_theta/big_theta.std()\n",
        "    big_theta = big_theta - big_theta.mean()\n",
        "\n",
        "    first_convolution_theta_weight = torch.reshape(big_theta[self.first_convolution_weight_edges[0]:self.first_convolution_weight_edges[1]], (6,self.in_channels,5,5))\n",
        "    first_convolution_theta_bias = big_theta[self.first_convolution_bias_edges[0]:self.first_convolution_bias_edges[1]]\n",
        "    second_convolution_theta_weight = torch.reshape(big_theta[self.second_convolution_weight_edges[0]:self.second_convolution_weight_edges[1]], (self.out_channels,6,5,5))\n",
        "    second_convolution_theta_bias = big_theta[self.second_convolution_bias_edges[0]:self.second_convolution_bias_edges[1]]\n",
        "    hidden_layers_theta_weight = []\n",
        "    hidden_layers_theta_bias = []\n",
        "    for i in range(self.n_hidden_layers):\n",
        "      if i == 0:\n",
        "        hidden_layers_theta_weight.append(torch.reshape(big_theta[self.hidden_layers_weight_edges[i][0]:self.hidden_layers_weight_edges[i][1]],(self.hidden_dim, self.flatten_dim)))\n",
        "        hidden_layers_theta_bias.append(big_theta[self.hidden_layers_bias_edges[i][0]:self.hidden_layers_bias_edges[i][1]])\n",
        "        continue\n",
        "\n",
        "      hidden_layers_theta_weight.append(torch.reshape(big_theta[self.hidden_layers_weight_edges[i][0]:self.hidden_layers_weight_edges[i][1]],(self.hidden_dim, self.hidden_dim)))\n",
        "      hidden_layers_theta_bias.append(big_theta[self.hidden_layers_bias_edges[i][0]:self.hidden_layers_bias_edges[i][1]])\n",
        "\n",
        "    last_layer_theta_weight = torch.reshape(big_theta[self.last_layer_weight_edges[0]:self.last_layer_weight_edges[1]], (self.output_dim, self.hidden_dim))\n",
        "    last_layer_theta_bias = big_theta[self.last_layer_bias_edges[0]:self.last_layer_bias_edges[1]]\n",
        "\n",
        "    y = F.conv2d(x, first_convolution_theta_weight/math.sqrt(first_convolution_theta_weight.shape[1]*25), first_convolution_theta_bias/math.sqrt(first_convolution_theta_weight.shape[1]*25), padding = \"same\")\n",
        "    y = F.avg_pool2d(y,2)\n",
        "    y = F.tanh(y)\n",
        "    y = F.conv2d(y, second_convolution_theta_weight/math.sqrt(second_convolution_theta_weight.shape[1]*25), second_convolution_theta_bias/math.sqrt(second_convolution_theta_weight.shape[1]*25), padding = \"same\")\n",
        "\n",
        "    y = F.avg_pool2d(y,2)\n",
        "    y = F.tanh(y)\n",
        "    y = torch.flatten(y, start_dim = -3)\n",
        "\n",
        "    for i in range(self.n_hidden_layers):\n",
        "      y = F.linear(y,hidden_layers_theta_weight[i]/math.sqrt(hidden_layers_theta_weight[i].shape[1]), hidden_layers_theta_bias[i]/math.sqrt(hidden_layers_theta_weight[i].shape[1]))\n",
        "      y = F.relu(y)\n",
        "\n",
        "    y = F.linear(y, last_layer_theta_weight/math.sqrt(last_layer_theta_weight.shape[1]), last_layer_theta_bias/math.sqrt(last_layer_theta_weight.shape[1]))\n",
        "    return y"
      ],
      "metadata": {
        "id": "ITbBhjRTsB6I"
      },
      "execution_count": 7,
      "outputs": []
    },
    {
      "cell_type": "code",
      "source": [
        "class myLinearSparseModel(nn.Module):\n",
        "  def __init__(self, input_dimension, d, n_hidden_layers = 4, hidden_dim = 32, output_dim = 1, device = \"cpu\"):\n",
        "    super().__init__()\n",
        "    self.d = d\n",
        "    #theta is the shared weight. It is initialized as 0. First i define all the layers of the network.\n",
        "    self.theta = nn.Parameter(torch.randn(d))\n",
        "    self.n_hidden_layers = n_hidden_layers\n",
        "    self.hidden_dim = hidden_dim\n",
        "    self.input_dimension = input_dimension\n",
        "    self.output_dim = output_dim\n",
        "\n",
        "    #then I precompute the dimension of the weights of the single layers. This will be useful when\n",
        "    #each layer will need as input its part of the shared weight\n",
        "    first_layer_weight_D = input_dimension * hidden_dim\n",
        "    first_layer_bias_D = hidden_dim\n",
        "    hidden_layers_weight_D = hidden_dim * hidden_dim\n",
        "    hidden_layers_bias_D = hidden_dim\n",
        "    last_layer_weight_D = hidden_dim * output_dim\n",
        "    last_layer_bias_D = output_dim\n",
        "\n",
        "    self.D = first_layer_weight_D + first_layer_bias_D + hidden_layers_weight_D*n_hidden_layers + hidden_layers_bias_D*n_hidden_layers + last_layer_weight_D + last_layer_bias_D\n",
        "    self.projection = sparse_matrix(self.D, self.d) #this is the projection matrix. Its type changes depending on the kind of network.\n",
        "\n",
        "\n",
        "    start_counter = 0\n",
        "    end_counter = 0\n",
        "    end_counter += first_layer_weight_D\n",
        "    self.first_layer_weight_edges = ((0,end_counter))\n",
        "    start_counter = end_counter\n",
        "    end_counter += first_layer_bias_D\n",
        "    self.first_layer_bias_edges = (start_counter, end_counter)\n",
        "    start_counter = end_counter\n",
        "    self.hidden_layers_weight_edges = []\n",
        "    self.hidden_layers_bias_edges = []\n",
        "    for i in range(n_hidden_layers):\n",
        "      end_counter += hidden_layers_weight_D\n",
        "      self.hidden_layers_weight_edges.append((start_counter, end_counter))\n",
        "      start_counter = end_counter\n",
        "      end_counter += hidden_layers_bias_D\n",
        "      self.hidden_layers_bias_edges.append((start_counter, end_counter))\n",
        "      start_counter = end_counter\n",
        "\n",
        "    end_counter += last_layer_weight_D\n",
        "    self.last_layer_weight_edges = ((start_counter, end_counter))\n",
        "    start_counter = end_counter\n",
        "    end_counter +=last_layer_bias_D\n",
        "    self.last_layer_bias_edges = ((start_counter, end_counter))\n",
        "    start_counter = end_counter\n",
        "\n",
        "    self.projection, self.theta = self.projection.to(device), self.theta.to(device)\n",
        "    ####\n",
        "\n",
        "\n",
        "\n",
        "  def forward(self, x):\n",
        "\n",
        "\n",
        "    big_theta = self.projection @ self.theta\n",
        "    big_theta = big_theta/big_theta.std()\n",
        "    big_theta = big_theta - big_theta.mean()\n",
        "\n",
        "    #the first thing to do at each call, I need to compute the weights for the whole network, from my subset of trainable weights.\n",
        "    #each layer is given its part.\n",
        "\n",
        "    first_layer_theta_weight = torch.reshape(big_theta[self.first_layer_weight_edges[0]:self.first_layer_weight_edges[1]], (self.hidden_dim, self.input_dimension))\n",
        "    first_layer_theta_bias = big_theta[self.first_layer_bias_edges[0]:self.first_layer_bias_edges[1]]\n",
        "    hidden_layers_theta_weight = []\n",
        "    hidden_layers_theta_bias = []\n",
        "    for i in range(self.n_hidden_layers):\n",
        "\n",
        "      hidden_layers_theta_weight.append(torch.reshape(big_theta[self.hidden_layers_weight_edges[i][0]:self.hidden_layers_weight_edges[i][1]],(self.hidden_dim, self.hidden_dim)))\n",
        "      hidden_layers_theta_bias.append(big_theta[self.hidden_layers_bias_edges[i][0]:self.hidden_layers_bias_edges[i][1]])\n",
        "\n",
        "    last_layer_theta_weight = torch.reshape(big_theta[self.last_layer_weight_edges[0]:self.last_layer_weight_edges[1]], (self.output_dim, self.hidden_dim))\n",
        "    last_layer_theta_bias = big_theta[self.last_layer_bias_edges[0]:self.last_layer_bias_edges[1]]\n",
        "\n",
        "    y = F.linear(x, first_layer_theta_weight/math.sqrt(first_layer_theta_weight.shape[1]), first_layer_theta_bias/math.sqrt(first_layer_theta_weight.shape[1]))\n",
        "    y = F.relu(y)\n",
        "    for i in range(self.n_hidden_layers):\n",
        "      y = F.linear(y,hidden_layers_theta_weight[i]/math.sqrt(hidden_layers_theta_weight[i].shape[1]), hidden_layers_theta_bias[i]/math.sqrt(hidden_layers_theta_weight[i].shape[1]))\n",
        "      y = F.relu(y)\n",
        "\n",
        "    y = F.linear(y, last_layer_theta_weight/math.sqrt(last_layer_theta_weight.shape[1]), last_layer_theta_bias/math.sqrt(last_layer_theta_weight.shape[1]))\n",
        "    return y\n",
        "\n"
      ],
      "metadata": {
        "id": "s3eREbk-sdU3"
      },
      "execution_count": 8,
      "outputs": []
    },
    {
      "cell_type": "code",
      "source": [
        "class mySparseLeNet(nn.Module):\n",
        "  def __init__(self, d, in_channels = 1, out_channels = 16, input_dimension = 28, n_convolutions = 2, hidden_dim = 120, n_hidden_layers = 2, output_dim = 10, device = \"cpu\"):\n",
        "    super().__init__()\n",
        "    self.d = d\n",
        "    #this is the convolutional network. It works in the same way as the fully connected one.\n",
        "    self.theta = nn.Parameter(torch.randn(d))\n",
        "    self.n_convolutions = n_convolutions\n",
        "    self.hidden_dim = hidden_dim\n",
        "    self.n_hidden_layers = n_hidden_layers\n",
        "    self.input_dimension = input_dimension\n",
        "    self.in_channels = in_channels\n",
        "    self.out_channels = out_channels\n",
        "    self.output_dim = output_dim\n",
        "    self.flatten_dim = int(out_channels*(input_dimension/2**n_convolutions)*(input_dimension/2**n_convolutions))\n",
        "\n",
        "    first_convolution_weight_D = 6* in_channels*5*5\n",
        "    first_convolution_bias_D = 6\n",
        "    second_convolution_weight_D = out_channels*6*5*5\n",
        "    second_convolution_bias_D = out_channels\n",
        "    hidden_layers_weight_D = hidden_dim * hidden_dim\n",
        "    hidden_layers_bias_D = hidden_dim\n",
        "    last_layer_weight_D = hidden_dim * output_dim\n",
        "    last_layer_bias_D = output_dim\n",
        "\n",
        "    self.D = (first_convolution_weight_D + first_convolution_bias_D + second_convolution_weight_D + second_convolution_bias_D + hidden_layers_weight_D*(n_hidden_layers-1) +\n",
        "    hidden_layers_bias_D*n_hidden_layers + self.flatten_dim*self.hidden_dim + last_layer_weight_D + last_layer_bias_D)\n",
        "    self.projection = sparse_matrix(self.D, self.d)\n",
        "\n",
        "    #counters are, start included, end excluded\n",
        "    start_counter = 0\n",
        "    end_counter = 0\n",
        "    end_counter += first_convolution_weight_D\n",
        "    self.first_convolution_weight_edges = ((0,end_counter))\n",
        "    start_counter = end_counter\n",
        "    end_counter += first_convolution_bias_D\n",
        "    self.first_convolution_bias_edges = (start_counter, end_counter)\n",
        "    start_counter = end_counter\n",
        "    end_counter += second_convolution_weight_D\n",
        "    self.second_convolution_weight_edges = ((start_counter,end_counter))\n",
        "    start_counter = end_counter\n",
        "    end_counter += second_convolution_bias_D\n",
        "    self.second_convolution_bias_edges = (start_counter, end_counter)\n",
        "    start_counter = end_counter\n",
        "    self.hidden_layers_weight_edges = []\n",
        "    self.hidden_layers_bias_edges = []\n",
        "    for i in range(n_hidden_layers):\n",
        "      if i == 0:\n",
        "        end_counter += self.flatten_dim*hidden_dim\n",
        "\n",
        "        self.hidden_layers_weight_edges.append((start_counter, end_counter))\n",
        "        start_counter = end_counter\n",
        "        end_counter += hidden_layers_bias_D\n",
        "        self.hidden_layers_bias_edges.append((start_counter, end_counter))\n",
        "        start_counter = end_counter\n",
        "      else:\n",
        "        end_counter += hidden_layers_weight_D\n",
        "        self.hidden_layers_weight_edges.append((start_counter, end_counter))\n",
        "        start_counter = end_counter\n",
        "        end_counter += hidden_layers_bias_D\n",
        "        self.hidden_layers_bias_edges.append((start_counter, end_counter))\n",
        "        start_counter = end_counter\n",
        "\n",
        "    end_counter += last_layer_weight_D\n",
        "    self.last_layer_weight_edges = ((start_counter, end_counter))\n",
        "    start_counter = end_counter\n",
        "    end_counter +=last_layer_bias_D\n",
        "    self.last_layer_bias_edges = ((start_counter, end_counter))\n",
        "    start_counter = end_counter\n",
        "\n",
        "    self.projection = self.projection.to(dev)\n",
        "\n",
        "  def forward(self, x):\n",
        "\n",
        "    big_theta = self.projection @ self.theta\n",
        "    big_theta = big_theta/big_theta.std()\n",
        "    big_theta = big_theta - big_theta.mean()\n",
        "\n",
        "    first_convolution_theta_weight = torch.reshape(big_theta[self.first_convolution_weight_edges[0]:self.first_convolution_weight_edges[1]], (6,self.in_channels,5,5))\n",
        "    first_convolution_theta_bias = big_theta[self.first_convolution_bias_edges[0]:self.first_convolution_bias_edges[1]]\n",
        "    second_convolution_theta_weight = torch.reshape(big_theta[self.second_convolution_weight_edges[0]:self.second_convolution_weight_edges[1]], (self.out_channels,6,5,5))\n",
        "    second_convolution_theta_bias = big_theta[self.second_convolution_bias_edges[0]:self.second_convolution_bias_edges[1]]\n",
        "    hidden_layers_theta_weight = []\n",
        "    hidden_layers_theta_bias = []\n",
        "    for i in range(self.n_hidden_layers):\n",
        "      if i == 0:\n",
        "        hidden_layers_theta_weight.append(torch.reshape(big_theta[self.hidden_layers_weight_edges[i][0]:self.hidden_layers_weight_edges[i][1]],(self.hidden_dim, self.flatten_dim)))\n",
        "        hidden_layers_theta_bias.append(big_theta[self.hidden_layers_bias_edges[i][0]:self.hidden_layers_bias_edges[i][1]])\n",
        "        continue\n",
        "\n",
        "      hidden_layers_theta_weight.append(torch.reshape(big_theta[self.hidden_layers_weight_edges[i][0]:self.hidden_layers_weight_edges[i][1]],(self.hidden_dim, self.hidden_dim)))\n",
        "      hidden_layers_theta_bias.append(big_theta[self.hidden_layers_bias_edges[i][0]:self.hidden_layers_bias_edges[i][1]])\n",
        "\n",
        "    last_layer_theta_weight = torch.reshape(big_theta[self.last_layer_weight_edges[0]:self.last_layer_weight_edges[1]], (self.output_dim, self.hidden_dim))\n",
        "    last_layer_theta_bias = big_theta[self.last_layer_bias_edges[0]:self.last_layer_bias_edges[1]]\n",
        "\n",
        "    y = F.conv2d(x, first_convolution_theta_weight/math.sqrt(first_convolution_theta_weight.shape[1]*25), first_convolution_theta_bias/math.sqrt(first_convolution_theta_weight.shape[1]*25), padding = \"same\")\n",
        "    y = F.avg_pool2d(y,2)\n",
        "    y = F.tanh(y)\n",
        "    y = F.conv2d(y, second_convolution_theta_weight/math.sqrt(second_convolution_theta_weight.shape[1]*25), second_convolution_theta_bias/math.sqrt(second_convolution_theta_weight.shape[1]*25), padding = \"same\")\n",
        "\n",
        "    y = F.avg_pool2d(y,2)\n",
        "    y = F.tanh(y)\n",
        "    y = torch.flatten(y, start_dim = -3)\n",
        "\n",
        "    for i in range(self.n_hidden_layers):\n",
        "      y = F.linear(y,hidden_layers_theta_weight[i]/math.sqrt(hidden_layers_theta_weight[i].shape[1]), hidden_layers_theta_bias[i]/math.sqrt(hidden_layers_theta_weight[i].shape[1]))\n",
        "      y = F.relu(y)\n",
        "\n",
        "    y = F.linear(y, last_layer_theta_weight/math.sqrt(last_layer_theta_weight.shape[1]), last_layer_theta_bias/math.sqrt(last_layer_theta_weight.shape[1]))\n",
        "    return y"
      ],
      "metadata": {
        "id": "H6fhNP9rtFeZ"
      },
      "execution_count": 9,
      "outputs": []
    },
    {
      "cell_type": "markdown",
      "metadata": {
        "id": "HUyHSXEgIOX_"
      },
      "source": [
        "Random-Kitchen-Sinks"
      ]
    },
    {
      "cell_type": "markdown",
      "metadata": {
        "id": "JzsQRVPQIRco"
      },
      "source": [
        "Here is everything for the various implementations of the random-kitchen-sinks. In addition to Fastfood, I tried with 2 more kinds of projection matrices"
      ]
    },
    {
      "cell_type": "code",
      "execution_count": 10,
      "metadata": {
        "id": "rga-4in_IjXO"
      },
      "outputs": [],
      "source": [
        "def generate_fastfood_matrices(dim):\n",
        "  B = torch.randn(dim) #diagonal of the matrices\n",
        "  B = B/torch.absolute(B)\n",
        "  pi = torch.randperm(dim) #instead of saving the matrix, I save the permutation it represents\n",
        "  G = torch.randn(dim)\n",
        "  return G, pi, B"
      ]
    },
    {
      "cell_type": "code",
      "execution_count": 11,
      "metadata": {
        "id": "fHUUH0NAI3nd"
      },
      "outputs": [],
      "source": [
        "def generate_multiple_fastfood_matrices(dim, number): #this will generate the matrices needed for Fastfood.\n",
        "  Bs =[]\n",
        "  pis = []\n",
        "  Gs = []\n",
        "  for i in range(number):\n",
        "    B = torch.randn(dim)\n",
        "    B = B/torch.absolute(B)\n",
        "    Bs.append(B)\n",
        "    pi = torch.randperm(dim)\n",
        "    pis.append(pi)\n",
        "    G = torch.randn(dim)\n",
        "    Gs.append(G)\n",
        "    return Gs, pis, Bs"
      ]
    },
    {
      "cell_type": "code",
      "execution_count": 12,
      "metadata": {
        "id": "DT_coQx9JMsN"
      },
      "outputs": [],
      "source": [
        "def permutation(vec, perm):\n",
        "  ret = torch.zeros_like(vec)\n",
        "  ret[perm] = vec\n",
        "  return ret"
      ]
    },
    {
      "cell_type": "code",
      "execution_count": 13,
      "metadata": {
        "id": "riPHTgxMJR1E"
      },
      "outputs": [],
      "source": [
        "#I had to make 2 different versions of the Random-Kitchen-Sinks algorithms\n",
        "#One for checking the accuracy of the models, and one to check the speed\n",
        "#that is because my most optimal version speed-wise would not be able to track the gradients\n",
        "#here the problems are these functions from other libraries I am using\n",
        "def fastfood_calculation(x, G, pi, B):\n",
        "  length = len(x)\n",
        "  output = torch.Tensor(fwht(x)[0:length])\n",
        "  output = output * G\n",
        "  output = permutation(output,pi)\n",
        "  output = torch.Tensor(fwht(output)[0:length])\n",
        "  output = output * B\n",
        "  return output"
      ]
    },
    {
      "cell_type": "code",
      "execution_count": 14,
      "metadata": {
        "id": "Oe9YHv3VJbwo"
      },
      "outputs": [],
      "source": [
        "def full_fastfood_calculation(x, Gs, pis, Bs, D):\n",
        "  ret = torch.zeros(0)\n",
        "  for i in range(len(Gs)):\n",
        "\n",
        "    length = len(x)\n",
        "    output = torch.Tensor(fwht(x)[0:length])\n",
        "    output = output * Gs[i]\n",
        "    output = permutation(output,pis[i])\n",
        "    output = torch.Tensor(fwht(output)[0:length])\n",
        "    output = output * Bs[i]\n",
        "    ret = torch.cat((ret,output))\n",
        "  return ret[0:D]"
      ]
    },
    {
      "cell_type": "code",
      "execution_count": 15,
      "metadata": {
        "id": "uANuj0ZJJdgQ"
      },
      "outputs": [],
      "source": [
        "#an alternative to the Hadamard Matrix in Fastfood is the Discrete Cosine Transform.\n",
        "#This generates the projection matrix using DCT\n",
        "def full_cosine_calculation(x, Gs, pis, Bs, D):\n",
        "  ret = torch.zeros(0)\n",
        "  for i in range(len(Gs)):\n",
        "\n",
        "    length = len(x)\n",
        "    output = torch.Tensor(scipy.fft.dct(x.numpy(), norm = \"ortho\"))\n",
        "    output = output * Gs[i]\n",
        "    output = permutation(output,pis[i])\n",
        "    output = torch.Tensor(scipy.fft.dct(output.numpy(), norm = \"ortho\"))\n",
        "    output = output * Bs[i]\n",
        "    ret = torch.cat((ret,output))\n",
        "  return ret[0:D]"
      ]
    },
    {
      "cell_type": "code",
      "execution_count": 16,
      "metadata": {
        "id": "fmy4O1iNJ38P"
      },
      "outputs": [],
      "source": [
        "#another option for the Random-Kitchen-Sinks algorithm are Orthogonal Random Features\n",
        "#As are described here https://arxiv.org/pdf/1610.09072.pdf"
      ]
    },
    {
      "cell_type": "code",
      "execution_count": 17,
      "metadata": {
        "id": "ijZsXSlfJzq5"
      },
      "outputs": [],
      "source": [
        "def orthogonal_random_features(d):\n",
        "  Phi = np.random.randn(d, d).astype(np.float32)\n",
        "  Q = orth(Phi)[:d]"
      ]
    },
    {
      "cell_type": "code",
      "execution_count": 18,
      "metadata": {
        "id": "i2LXh2xzJzvU"
      },
      "outputs": [],
      "source": [
        "def orthogonal_random_matrices(d):\n",
        "  Phi = np.random.randn(d, d).astype(np.float32)\n",
        "  Q = orth(Phi)[:d]\n",
        "  #compute S\n",
        "  S = torch.randn((d,d))\n",
        "  S = S ** 2\n",
        "  S = torch.sum(S,dim=0)\n",
        "  S = torch.sqrt(S)\n",
        "  S = torch.diag(S)\n",
        "  return Q,S"
      ]
    },
    {
      "cell_type": "code",
      "execution_count": 19,
      "metadata": {
        "id": "DjzL8FfpKPPt"
      },
      "outputs": [],
      "source": [
        "def multiple_orthogonal_random_matrices(d, number):\n",
        "  Qs = []\n",
        "  Ss = []\n",
        "  for i in range(number):\n",
        "    Phi = np.random.randn(d, d).astype(np.float32)\n",
        "    Q = orth(Phi)[:d]\n",
        "    #compute S\n",
        "    S = torch.randn((d,d))\n",
        "    S = S ** 2\n",
        "    S = torch.sum(S,dim=0)\n",
        "    S = torch.sqrt(S)\n",
        "    S = torch.diag(S)\n",
        "    Qs.append(Q)\n",
        "    Ss.append(S)\n",
        "  return Qs, Ss"
      ]
    },
    {
      "cell_type": "code",
      "execution_count": 20,
      "metadata": {
        "id": "AnhTb_K9KRzJ"
      },
      "outputs": [],
      "source": [
        "def full_orthogonal_random_calculation(x, Qs, Ss, D):\n",
        "  result = torch.zeros(0)\n",
        "  for i in range(len(Qs)):\n",
        "    result = torch.cat((result,x@Qs[i]@Ss[i]))\n",
        "  return result"
      ]
    },
    {
      "cell_type": "code",
      "execution_count": 21,
      "metadata": {
        "id": "RgG6sT7buEF_"
      },
      "outputs": [],
      "source": [
        "def optimal_generate_fastfood_matrices(dim, number):\n",
        "  G = torch.randn(number, dim)\n",
        "  pi = torch.argsort(torch.rand(number, dim), dim=-1)\n",
        "  B = torch.randn(number, dim)\n",
        "  B = B/torch.absolute(B)\n",
        "  return G, pi, B"
      ]
    },
    {
      "cell_type": "code",
      "execution_count": 22,
      "metadata": {
        "id": "cgpiWvxJxPv9"
      },
      "outputs": [],
      "source": [
        "def optimal_fastfood_calculation(x, G, pi, B):\n",
        "  x = x.repeat(G.shape[0], 1)\n",
        "  after_H1 = hadamard_transform(pad_to_power_of_2(x))[:,:x.shape[1]]\n",
        "  after_G = after_H1*G\n",
        "  after_pi = after_G[torch.arange(after_G.shape[0]).unsqueeze(-1), pi]\n",
        "  after_H2 = hadamard_transform(pad_to_power_of_2(after_pi))[:,:after_pi.shape[1]]\n",
        "  after_B = after_H2 * B\n",
        "  return torch.flatten(after_B)"
      ]
    },
    {
      "cell_type": "code",
      "execution_count": 23,
      "metadata": {
        "id": "IWsskAO07pJN"
      },
      "outputs": [],
      "source": [
        "def optimal_cosine_calculation(x, G, pi, B):\n",
        "  x = x.repeat(G.shape[0], 1)\n",
        "  after_H1 = dct.dct(x)\n",
        "  after_G = after_H1*G\n",
        "  after_pi = after_G[torch.arange(after_G.shape[0]).unsqueeze(-1), pi]\n",
        "  after_H2 = dct.dct(after_pi)\n",
        "  after_B = after_H2 * B\n",
        "  return torch.flatten(after_B)"
      ]
    },
    {
      "cell_type": "code",
      "execution_count": 24,
      "metadata": {
        "id": "ZUlWDtUe55OP"
      },
      "outputs": [],
      "source": [
        "def optimal_structured_orthogonal_random_matrices(dim, number):\n",
        "  D1 = torch.randn(number, dim)\n",
        "  D1 = D1/torch.absolute(D1)\n",
        "  D2 = torch.randn(number, dim)\n",
        "  D2 = D2/torch.absolute(D2)\n",
        "  D3 = torch.randn(number, dim)\n",
        "  D3 = D3/torch.absolute(D3)\n",
        "  return D1, D2, D3"
      ]
    },
    {
      "cell_type": "code",
      "execution_count": 25,
      "metadata": {
        "id": "5AcuPg2Q71vp"
      },
      "outputs": [],
      "source": [
        "def optimal_structured_orthogonal_random_calculation(x,D1,D2,D3):\n",
        "  x = x.repeat(D1.shape[0], 1)\n",
        "  y = hadamard_transform(pad_to_power_of_2(x))[:,:x.shape[1]]\n",
        "  y = y*D1\n",
        "  y = hadamard_transform(pad_to_power_of_2(y))[:,:y.shape[1]]\n",
        "  y = y*D2\n",
        "  y = hadamard_transform(pad_to_power_of_2(y))[:,:y.shape[1]]\n",
        "  y = y*D3\n",
        "  return torch.flatten(y)"
      ]
    },
    {
      "cell_type": "code",
      "execution_count": 107,
      "metadata": {
        "id": "sSfnDdVRFsuQ"
      },
      "outputs": [],
      "source": [
        "T1 = torch.randn(100)\n",
        "T1 = T1.to(dev)"
      ]
    },
    {
      "cell_type": "code",
      "execution_count": 108,
      "metadata": {
        "id": "wuwypCFZB5L4"
      },
      "outputs": [],
      "source": [
        "G, pi, B = optimal_generate_fastfood_matrices(100, 10000)\n",
        "qs, ss = multiple_orthogonal_random_matrices(100, 100)\n",
        "D1, D2, D3 = optimal_structured_orthogonal_random_matrices(100, 10000)\n",
        "G = G.to(dev)\n",
        "pi = pi.to(dev)\n",
        "B = B.to(dev)\n",
        "D1 = D1.to(dev)\n",
        "D2 = D2.to(dev)\n",
        "D3 = D3.to(dev)\n",
        "t1 = time.time()\n",
        "for i in range(100):\n",
        "  fastfood = optimal_fastfood_calculation(T1, G, pi, B)\n",
        "t2 = time.time()\n",
        "for i in range(100):\n",
        "\n",
        "  cosine = optimal_cosine_calculation(T1,G, pi, B)\n",
        "t3 = time.time()\n",
        "#full_orthogonal_random_calculation(torch.randn(100), qs,ss,10000)\n",
        "#t4 = time.time()\n",
        "for i in range(100):\n",
        "  orthogonal = optimal_structured_orthogonal_random_calculation(T1, D1, D2, D3)\n",
        "t5 = time.time()\n",
        "dense = dense_matrix(1000000, 100)#with d = 1000 the matrix would not fit into memory\n",
        "dense = dense.to(dev)\n",
        "sparse = sparse_matrix(1000000, 100)\n",
        "sparse = sparse.to(dev)\n",
        "\n",
        "t6 = time.time()\n",
        "for i in range(100):\n",
        "\n",
        "  dense_m = dense@T1\n",
        "t7 = time.time()\n",
        "for i in range(100):\n",
        "\n",
        "  sparse_m = sparse@T1\n",
        "t8 = time.time()"
      ]
    },
    {
      "cell_type": "code",
      "execution_count": 109,
      "metadata": {
        "colab": {
          "base_uri": "https://localhost:8080/"
        },
        "id": "iT8ZEmLdC59n",
        "outputId": "b12e4c1a-2842-442b-cd8c-6d44742dbae5"
      },
      "outputs": [
        {
          "output_type": "stream",
          "name": "stdout",
          "text": [
            "0.4275338649749756\n",
            "0.3192417621612549\n",
            "0.30924296379089355\n"
          ]
        }
      ],
      "source": [
        "print(t2-t1)#with d = 1000 the times were 0.105, 0.036, 0.009(this doesn't count), 0.134\n",
        "print(t3-t2)\n",
        "#print(t4-t3)\n",
        "print(t5-t3)"
      ]
    },
    {
      "cell_type": "code",
      "source": [
        "print(t7-t6)\n",
        "print(t8-t7)"
      ],
      "metadata": {
        "colab": {
          "base_uri": "https://localhost:8080/"
        },
        "id": "X_ok9_PavEIt",
        "outputId": "6100eb00-c2e8-42fb-f265-8a11e92ba574"
      },
      "execution_count": 110,
      "outputs": [
        {
          "output_type": "stream",
          "name": "stdout",
          "text": [
            "0.002134561538696289\n",
            "0.25193333625793457\n"
          ]
        }
      ]
    },
    {
      "cell_type": "markdown",
      "metadata": {
        "id": "GGnCMQtxLfK4"
      },
      "source": [
        "Random-Kitchen-Sinks layers"
      ]
    },
    {
      "cell_type": "code",
      "execution_count": 31,
      "metadata": {
        "id": "hDJPzfOVIc-d"
      },
      "outputs": [],
      "source": [
        "class myLinearTransformModel(nn.Module): #this is a fully connected model,\n",
        "  def __init__(self, input_dimension, d, n_hidden_layers = 4, hidden_dim = 32, output_dim = 1, device = \"cpu\", transform = \"fastfood\"):\n",
        "    super().__init__()\n",
        "    self.d = d\n",
        "    #theta is the shared weight. It is initialized as 0. First i define all the layers of the network.\n",
        "    self.theta = nn.Parameter(torch.randn(d))\n",
        "    self.n_hidden_layers = n_hidden_layers\n",
        "    self.hidden_dim = hidden_dim\n",
        "    self.input_dimension = input_dimension\n",
        "    self.output_dim = output_dim\n",
        "    #\n",
        "    self.transform = transform\n",
        "\n",
        "    #then I precompute the dimension of the weights of the single layers. This will be useful when\n",
        "    #each layer will need as input its part of the shared weight\n",
        "    first_layer_weight_D = input_dimension * hidden_dim\n",
        "    first_layer_bias_D = hidden_dim\n",
        "    hidden_layers_weight_D = hidden_dim * hidden_dim\n",
        "    hidden_layers_bias_D = hidden_dim\n",
        "    last_layer_weight_D = hidden_dim * output_dim\n",
        "    last_layer_bias_D = output_dim\n",
        "\n",
        "    self.D = first_layer_weight_D + first_layer_bias_D + hidden_layers_weight_D*n_hidden_layers + hidden_layers_bias_D*n_hidden_layers + last_layer_weight_D + last_layer_bias_D\n",
        "\n",
        "\n",
        "    start_counter = 0\n",
        "    end_counter = 0\n",
        "    end_counter += first_layer_weight_D\n",
        "    self.first_layer_weight_edges = ((0,end_counter))\n",
        "    start_counter = end_counter\n",
        "    end_counter += first_layer_bias_D\n",
        "    self.first_layer_bias_edges = (start_counter, end_counter)\n",
        "    start_counter = end_counter\n",
        "    self.hidden_layers_weight_edges = []\n",
        "    self.hidden_layers_bias_edges = []\n",
        "    for i in range(n_hidden_layers):\n",
        "      end_counter += hidden_layers_weight_D\n",
        "      self.hidden_layers_weight_edges.append((start_counter, end_counter))\n",
        "      start_counter = end_counter\n",
        "      end_counter += hidden_layers_bias_D\n",
        "      self.hidden_layers_bias_edges.append((start_counter, end_counter))\n",
        "      start_counter = end_counter\n",
        "\n",
        "    end_counter += last_layer_weight_D\n",
        "    self.last_layer_weight_edges = ((start_counter, end_counter))\n",
        "    start_counter = end_counter\n",
        "    end_counter +=last_layer_bias_D\n",
        "    self.last_layer_bias_edges = ((start_counter, end_counter))\n",
        "    start_counter = end_counter\n",
        "    #####\n",
        "    if self.transform == \"fastfood\":\n",
        "      self.transform_func = optimal_fastfood_calculation\n",
        "    else:\n",
        "      self.transform_func = optimal_cosine_calculation\n",
        "\n",
        "    G, pi, B = optimal_generate_fastfood_matrices(self.d, int(self.D/self.d + 1))\n",
        "    G = G[:self.D]\n",
        "    pi = pi[:self.D]\n",
        "    B = B[:self.D]\n",
        "    self.G = G.to(device)\n",
        "    self.pi = pi.to(device)\n",
        "    self.B = B.to(device)\n",
        "\n",
        "\n",
        "\n",
        "  def forward(self, x):\n",
        "\n",
        "\n",
        "    big_theta = self.transform_func(self.theta, self.G, self.pi, self.B)\n",
        "    big_theta = big_theta/big_theta.std()\n",
        "    big_theta = big_theta - big_theta.mean()\n",
        "\n",
        "    #the first thing to do at each call, I need to compute the weights for the whole network, from my subset of trainable weights.\n",
        "    #each layer is given its part.\n",
        "\n",
        "    first_layer_theta_weight = torch.reshape(big_theta[self.first_layer_weight_edges[0]:self.first_layer_weight_edges[1]], (self.hidden_dim, self.input_dimension))\n",
        "    first_layer_theta_bias = big_theta[self.first_layer_bias_edges[0]:self.first_layer_bias_edges[1]]\n",
        "    hidden_layers_theta_weight = []\n",
        "    hidden_layers_theta_bias = []\n",
        "    for i in range(self.n_hidden_layers):\n",
        "\n",
        "      hidden_layers_theta_weight.append(torch.reshape(big_theta[self.hidden_layers_weight_edges[i][0]:self.hidden_layers_weight_edges[i][1]],(self.hidden_dim, self.hidden_dim)))\n",
        "      hidden_layers_theta_bias.append(big_theta[self.hidden_layers_bias_edges[i][0]:self.hidden_layers_bias_edges[i][1]])\n",
        "\n",
        "    last_layer_theta_weight = torch.reshape(big_theta[self.last_layer_weight_edges[0]:self.last_layer_weight_edges[1]], (self.output_dim, self.hidden_dim))\n",
        "    last_layer_theta_bias = big_theta[self.last_layer_bias_edges[0]:self.last_layer_bias_edges[1]]\n",
        "\n",
        "    y = F.linear(x, first_layer_theta_weight/math.sqrt(first_layer_theta_weight.shape[1]), first_layer_theta_bias/math.sqrt(first_layer_theta_weight.shape[1]))\n",
        "    y = F.relu(y)\n",
        "    for i in range(self.n_hidden_layers):\n",
        "      y = F.linear(y,hidden_layers_theta_weight[i]/math.sqrt(hidden_layers_theta_weight[i].shape[1]), hidden_layers_theta_bias[i]/math.sqrt(hidden_layers_theta_weight[i].shape[1]))\n",
        "      y = F.relu(y)\n",
        "\n",
        "    y = F.linear(y, last_layer_theta_weight/math.sqrt(last_layer_theta_weight.shape[1]), last_layer_theta_bias/math.sqrt(last_layer_theta_weight.shape[1]))\n",
        "    return y"
      ]
    },
    {
      "cell_type": "code",
      "source": [
        "class myTransformLeNet(nn.Module):\n",
        "  def __init__(self, d, in_channels = 1, out_channels = 16, input_dimension = 28, n_convolutions = 2, hidden_dim = 120, n_hidden_layers = 2, output_dim = 10, device = \"cpu\", transform = \"fastfood\"):\n",
        "    super().__init__()\n",
        "    self.d = d\n",
        "    self.theta = nn.Parameter(torch.randn(d))\n",
        "    self.n_convolutions = n_convolutions\n",
        "    self.hidden_dim = hidden_dim\n",
        "    self.n_hidden_layers = n_hidden_layers\n",
        "    self.input_dimension = input_dimension\n",
        "    self.in_channels = in_channels\n",
        "    self.out_channels = out_channels\n",
        "    self.output_dim = output_dim\n",
        "    self.flatten_dim = int(out_channels*(input_dimension/2**n_convolutions)*(input_dimension/2**n_convolutions))\n",
        "    self.transform = transform\n",
        "\n",
        "    first_convolution_weight_D = 6* in_channels*5*5\n",
        "    first_convolution_bias_D = 6\n",
        "    second_convolution_weight_D = out_channels*6*5*5\n",
        "    second_convolution_bias_D = out_channels\n",
        "    hidden_layers_weight_D = hidden_dim * hidden_dim\n",
        "    hidden_layers_bias_D = hidden_dim\n",
        "    last_layer_weight_D = hidden_dim * output_dim\n",
        "    last_layer_bias_D = output_dim\n",
        "\n",
        "    self.D = (first_convolution_weight_D + first_convolution_bias_D + second_convolution_weight_D + second_convolution_bias_D + hidden_layers_weight_D*(n_hidden_layers-1) +\n",
        "    hidden_layers_bias_D*n_hidden_layers + self.flatten_dim*self.hidden_dim + last_layer_weight_D + last_layer_bias_D)\n",
        "\n",
        "    #counters are, start included, end excluded\n",
        "    start_counter = 0\n",
        "    end_counter = 0\n",
        "    end_counter += first_convolution_weight_D\n",
        "    self.first_convolution_weight_edges = ((0,end_counter))\n",
        "    start_counter = end_counter\n",
        "    end_counter += first_convolution_bias_D\n",
        "    self.first_convolution_bias_edges = (start_counter, end_counter)\n",
        "    start_counter = end_counter\n",
        "    end_counter += second_convolution_weight_D\n",
        "    self.second_convolution_weight_edges = ((start_counter,end_counter))\n",
        "    start_counter = end_counter\n",
        "    end_counter += second_convolution_bias_D\n",
        "    self.second_convolution_bias_edges = (start_counter, end_counter)\n",
        "    start_counter = end_counter\n",
        "    self.hidden_layers_weight_edges = []\n",
        "    self.hidden_layers_bias_edges = []\n",
        "    for i in range(n_hidden_layers):\n",
        "      if i == 0:\n",
        "        end_counter += self.flatten_dim*hidden_dim\n",
        "\n",
        "        self.hidden_layers_weight_edges.append((start_counter, end_counter))\n",
        "        start_counter = end_counter\n",
        "        end_counter += hidden_layers_bias_D\n",
        "        self.hidden_layers_bias_edges.append((start_counter, end_counter))\n",
        "        start_counter = end_counter\n",
        "      else:\n",
        "        end_counter += hidden_layers_weight_D\n",
        "        self.hidden_layers_weight_edges.append((start_counter, end_counter))\n",
        "        start_counter = end_counter\n",
        "        end_counter += hidden_layers_bias_D\n",
        "        self.hidden_layers_bias_edges.append((start_counter, end_counter))\n",
        "        start_counter = end_counter\n",
        "\n",
        "    end_counter += last_layer_weight_D\n",
        "    self.last_layer_weight_edges = ((start_counter, end_counter))\n",
        "    start_counter = end_counter\n",
        "    end_counter +=last_layer_bias_D\n",
        "    self.last_layer_bias_edges = ((start_counter, end_counter))\n",
        "    start_counter = end_counter\n",
        "\n",
        "    ####\n",
        "    if self.transform == \"fastfood\":\n",
        "      self.transform_func = optimal_fastfood_calculation\n",
        "    else:\n",
        "      self.transform_func = optimal_cosine_calculation\n",
        "\n",
        "    G, pi, B = optimal_generate_fastfood_matrices(self.d, int(self.D/self.d + 1))\n",
        "    G = G[:self.D]\n",
        "    pi = pi[:self.D]\n",
        "    B = B[:self.D]\n",
        "    self.G = G.to(device)\n",
        "    self.pi = pi.to(device)\n",
        "    self.B = B.to(device)\n",
        "\n",
        "\n",
        "  def forward(self, x):\n",
        "\n",
        "    big_theta = self.transform_func(self.theta, self.G, self.pi, self.B)\n",
        "    big_theta = big_theta/big_theta.std()\n",
        "    big_theta = big_theta - big_theta.mean()\n",
        "\n",
        "    first_convolution_theta_weight = torch.reshape(big_theta[self.first_convolution_weight_edges[0]:self.first_convolution_weight_edges[1]], (6,self.in_channels,5,5))\n",
        "    first_convolution_theta_bias = big_theta[self.first_convolution_bias_edges[0]:self.first_convolution_bias_edges[1]]\n",
        "    second_convolution_theta_weight = torch.reshape(big_theta[self.second_convolution_weight_edges[0]:self.second_convolution_weight_edges[1]], (self.out_channels,6,5,5))\n",
        "    second_convolution_theta_bias = big_theta[self.second_convolution_bias_edges[0]:self.second_convolution_bias_edges[1]]\n",
        "    hidden_layers_theta_weight = []\n",
        "    hidden_layers_theta_bias = []\n",
        "    for i in range(self.n_hidden_layers):\n",
        "      if i == 0:\n",
        "        hidden_layers_theta_weight.append(torch.reshape(big_theta[self.hidden_layers_weight_edges[i][0]:self.hidden_layers_weight_edges[i][1]],(self.hidden_dim, self.flatten_dim)))\n",
        "        hidden_layers_theta_bias.append(big_theta[self.hidden_layers_bias_edges[i][0]:self.hidden_layers_bias_edges[i][1]])\n",
        "        continue\n",
        "\n",
        "      hidden_layers_theta_weight.append(torch.reshape(big_theta[self.hidden_layers_weight_edges[i][0]:self.hidden_layers_weight_edges[i][1]],(self.hidden_dim, self.hidden_dim)))\n",
        "      hidden_layers_theta_bias.append(big_theta[self.hidden_layers_bias_edges[i][0]:self.hidden_layers_bias_edges[i][1]])\n",
        "\n",
        "    last_layer_theta_weight = torch.reshape(big_theta[self.last_layer_weight_edges[0]:self.last_layer_weight_edges[1]], (self.output_dim, self.hidden_dim))\n",
        "    last_layer_theta_bias = big_theta[self.last_layer_bias_edges[0]:self.last_layer_bias_edges[1]]\n",
        "\n",
        "    y = F.conv2d(x, first_convolution_theta_weight/math.sqrt(first_convolution_theta_weight.shape[1]*25), first_convolution_theta_bias/math.sqrt(first_convolution_theta_weight.shape[1]*25), padding = \"same\")\n",
        "    y = F.avg_pool2d(y,2)\n",
        "    y = F.tanh(y)\n",
        "    y = F.conv2d(y, second_convolution_theta_weight/math.sqrt(second_convolution_theta_weight.shape[1]*25), second_convolution_theta_bias/math.sqrt(second_convolution_theta_weight.shape[1]*25), padding = \"same\")\n",
        "\n",
        "    y = F.avg_pool2d(y,2)\n",
        "    y = F.tanh(y)\n",
        "    y = torch.flatten(y, start_dim = -3)\n",
        "\n",
        "    for i in range(self.n_hidden_layers):\n",
        "      y = F.linear(y,hidden_layers_theta_weight[i]/math.sqrt(hidden_layers_theta_weight[i].shape[1]), hidden_layers_theta_bias[i]/math.sqrt(hidden_layers_theta_weight[i].shape[1]))\n",
        "      y = F.relu(y)\n",
        "\n",
        "    y = F.linear(y, last_layer_theta_weight/math.sqrt(last_layer_theta_weight.shape[1]), last_layer_theta_bias/math.sqrt(last_layer_theta_weight.shape[1]))\n",
        "    return y"
      ],
      "metadata": {
        "id": "u-C-cjmm2Q5g"
      },
      "execution_count": 32,
      "outputs": []
    },
    {
      "cell_type": "code",
      "source": [
        "class myLinearRandomFeaturesModel(nn.Module): #this is a fully connected model,\n",
        "  def __init__(self, input_dimension, d, n_hidden_layers = 4, hidden_dim = 32, output_dim = 1, device = \"cpu\"):\n",
        "    super().__init__()\n",
        "    self.d = d\n",
        "    #theta is the shared weight. It is initialized as 0. First i define all the layers of the network.\n",
        "    self.theta = nn.Parameter(torch.randn(d))\n",
        "    self.n_hidden_layers = n_hidden_layers\n",
        "    self.hidden_dim = hidden_dim\n",
        "    self.input_dimension = input_dimension\n",
        "    self.output_dim = output_dim\n",
        "    #\n",
        "\n",
        "    #then I precompute the dimension of the weights of the single layers. This will be useful when\n",
        "    #each layer will need as input its part of the shared weight\n",
        "    first_layer_weight_D = input_dimension * hidden_dim\n",
        "    first_layer_bias_D = hidden_dim\n",
        "    hidden_layers_weight_D = hidden_dim * hidden_dim\n",
        "    hidden_layers_bias_D = hidden_dim\n",
        "    last_layer_weight_D = hidden_dim * output_dim\n",
        "    last_layer_bias_D = output_dim\n",
        "\n",
        "    self.D = first_layer_weight_D + first_layer_bias_D + hidden_layers_weight_D*n_hidden_layers + hidden_layers_bias_D*n_hidden_layers + last_layer_weight_D + last_layer_bias_D\n",
        "\n",
        "\n",
        "    start_counter = 0\n",
        "    end_counter = 0\n",
        "    end_counter += first_layer_weight_D\n",
        "    self.first_layer_weight_edges = ((0,end_counter))\n",
        "    start_counter = end_counter\n",
        "    end_counter += first_layer_bias_D\n",
        "    self.first_layer_bias_edges = (start_counter, end_counter)\n",
        "    start_counter = end_counter\n",
        "    self.hidden_layers_weight_edges = []\n",
        "    self.hidden_layers_bias_edges = []\n",
        "    for i in range(n_hidden_layers):\n",
        "      end_counter += hidden_layers_weight_D\n",
        "      self.hidden_layers_weight_edges.append((start_counter, end_counter))\n",
        "      start_counter = end_counter\n",
        "      end_counter += hidden_layers_bias_D\n",
        "      self.hidden_layers_bias_edges.append((start_counter, end_counter))\n",
        "      start_counter = end_counter\n",
        "\n",
        "    end_counter += last_layer_weight_D\n",
        "    self.last_layer_weight_edges = ((start_counter, end_counter))\n",
        "    start_counter = end_counter\n",
        "    end_counter +=last_layer_bias_D\n",
        "    self.last_layer_bias_edges = ((start_counter, end_counter))\n",
        "    start_counter = end_counter\n",
        "    #####\n",
        "    D1, D2, D3 = optimal_structured_orthogonal_random_matrices(self.d, int(self.D/self.d + 1))\n",
        "    D1 = D1[:self.D]\n",
        "    D2 = D2[:self.D]\n",
        "    D3 = D3[:self.D]\n",
        "    self.D1 = D1.to(device)\n",
        "    self.D2 = D2.to(device)\n",
        "    self.D3 = D3.to(device)\n",
        "\n",
        "\n",
        "\n",
        "  def forward(self, x):\n",
        "\n",
        "\n",
        "    big_theta = optimal_structured_orthogonal_random_calculation(self.theta, self.D1, self.D2, self.D3)\n",
        "    big_theta = big_theta/big_theta.std()\n",
        "    big_theta = big_theta - big_theta.mean()\n",
        "\n",
        "    #the first thing to do at each call, I need to compute the weights for the whole network, from my subset of trainable weights.\n",
        "    #each layer is given its part.\n",
        "\n",
        "    first_layer_theta_weight = torch.reshape(big_theta[self.first_layer_weight_edges[0]:self.first_layer_weight_edges[1]], (self.hidden_dim, self.input_dimension))\n",
        "    first_layer_theta_bias = big_theta[self.first_layer_bias_edges[0]:self.first_layer_bias_edges[1]]\n",
        "    hidden_layers_theta_weight = []\n",
        "    hidden_layers_theta_bias = []\n",
        "    for i in range(self.n_hidden_layers):\n",
        "\n",
        "      hidden_layers_theta_weight.append(torch.reshape(big_theta[self.hidden_layers_weight_edges[i][0]:self.hidden_layers_weight_edges[i][1]],(self.hidden_dim, self.hidden_dim)))\n",
        "      hidden_layers_theta_bias.append(big_theta[self.hidden_layers_bias_edges[i][0]:self.hidden_layers_bias_edges[i][1]])\n",
        "\n",
        "    last_layer_theta_weight = torch.reshape(big_theta[self.last_layer_weight_edges[0]:self.last_layer_weight_edges[1]], (self.output_dim, self.hidden_dim))\n",
        "    last_layer_theta_bias = big_theta[self.last_layer_bias_edges[0]:self.last_layer_bias_edges[1]]\n",
        "\n",
        "    y = F.linear(x, first_layer_theta_weight/math.sqrt(first_layer_theta_weight.shape[1]), first_layer_theta_bias/math.sqrt(first_layer_theta_weight.shape[1]))\n",
        "    y = F.relu(y)\n",
        "    for i in range(self.n_hidden_layers):\n",
        "      y = F.linear(y,hidden_layers_theta_weight[i]/math.sqrt(hidden_layers_theta_weight[i].shape[1]), hidden_layers_theta_bias[i]/math.sqrt(hidden_layers_theta_weight[i].shape[1]))\n",
        "      y = F.relu(y)\n",
        "\n",
        "    y = F.linear(y, last_layer_theta_weight/math.sqrt(last_layer_theta_weight.shape[1]), last_layer_theta_bias/math.sqrt(last_layer_theta_weight.shape[1]))\n",
        "    return y"
      ],
      "metadata": {
        "id": "sgv0iKSv3FBs"
      },
      "execution_count": 33,
      "outputs": []
    },
    {
      "cell_type": "code",
      "source": [
        "class myRandomFeaturesLeNet(nn.Module):\n",
        "  def __init__(self, d, in_channels = 1, out_channels = 16, input_dimension = 28, n_convolutions = 2, hidden_dim = 120, n_hidden_layers = 2, output_dim = 10, device = \"cpu\"):\n",
        "    super().__init__()\n",
        "    self.d = d\n",
        "    self.theta = nn.Parameter(torch.randn(d))\n",
        "    self.n_convolutions = n_convolutions\n",
        "    self.hidden_dim = hidden_dim\n",
        "    self.n_hidden_layers = n_hidden_layers\n",
        "    self.input_dimension = input_dimension\n",
        "    self.in_channels = in_channels\n",
        "    self.out_channels = out_channels\n",
        "    self.output_dim = output_dim\n",
        "    self.flatten_dim = int(out_channels*(input_dimension/2**n_convolutions)*(input_dimension/2**n_convolutions))\n",
        "\n",
        "    first_convolution_weight_D = 6* in_channels*5*5\n",
        "    first_convolution_bias_D = 6\n",
        "    second_convolution_weight_D = out_channels*6*5*5\n",
        "    second_convolution_bias_D = out_channels\n",
        "    hidden_layers_weight_D = hidden_dim * hidden_dim\n",
        "    hidden_layers_bias_D = hidden_dim\n",
        "    last_layer_weight_D = hidden_dim * output_dim\n",
        "    last_layer_bias_D = output_dim\n",
        "\n",
        "    self.D = (first_convolution_weight_D + first_convolution_bias_D + second_convolution_weight_D + second_convolution_bias_D + hidden_layers_weight_D*(n_hidden_layers-1) +\n",
        "    hidden_layers_bias_D*n_hidden_layers + self.flatten_dim*self.hidden_dim + last_layer_weight_D + last_layer_bias_D)\n",
        "\n",
        "    #counters are, start included, end excluded\n",
        "    start_counter = 0\n",
        "    end_counter = 0\n",
        "    end_counter += first_convolution_weight_D\n",
        "    self.first_convolution_weight_edges = ((0,end_counter))\n",
        "    start_counter = end_counter\n",
        "    end_counter += first_convolution_bias_D\n",
        "    self.first_convolution_bias_edges = (start_counter, end_counter)\n",
        "    start_counter = end_counter\n",
        "    end_counter += second_convolution_weight_D\n",
        "    self.second_convolution_weight_edges = ((start_counter,end_counter))\n",
        "    start_counter = end_counter\n",
        "    end_counter += second_convolution_bias_D\n",
        "    self.second_convolution_bias_edges = (start_counter, end_counter)\n",
        "    start_counter = end_counter\n",
        "    self.hidden_layers_weight_edges = []\n",
        "    self.hidden_layers_bias_edges = []\n",
        "    for i in range(n_hidden_layers):\n",
        "      if i == 0:\n",
        "        end_counter += self.flatten_dim*hidden_dim\n",
        "\n",
        "        self.hidden_layers_weight_edges.append((start_counter, end_counter))\n",
        "        start_counter = end_counter\n",
        "        end_counter += hidden_layers_bias_D\n",
        "        self.hidden_layers_bias_edges.append((start_counter, end_counter))\n",
        "        start_counter = end_counter\n",
        "      else:\n",
        "        end_counter += hidden_layers_weight_D\n",
        "        self.hidden_layers_weight_edges.append((start_counter, end_counter))\n",
        "        start_counter = end_counter\n",
        "        end_counter += hidden_layers_bias_D\n",
        "        self.hidden_layers_bias_edges.append((start_counter, end_counter))\n",
        "        start_counter = end_counter\n",
        "\n",
        "    end_counter += last_layer_weight_D\n",
        "    self.last_layer_weight_edges = ((start_counter, end_counter))\n",
        "    start_counter = end_counter\n",
        "    end_counter +=last_layer_bias_D\n",
        "    self.last_layer_bias_edges = ((start_counter, end_counter))\n",
        "    start_counter = end_counter\n",
        "\n",
        "    ####\n",
        "    D1, D2, D3 = optimal_structured_orthogonal_random_matrices(self.d, int(self.D/self.d + 1))\n",
        "    D1 = D1[:self.D]\n",
        "    D2 = D2[:self.D]\n",
        "    D3 = D3[:self.D]\n",
        "    self.D1 = D1.to(device)\n",
        "    self.D2 = D2.to(device)\n",
        "    self.D3 = D3.to(device)\n",
        "\n",
        "  def forward(self, x):\n",
        "\n",
        "    big_theta = optimal_structured_orthogonal_random_calculation(self.theta, self.D1, self.D2, self.D3)\n",
        "    big_theta = big_theta/big_theta.std()\n",
        "    big_theta = big_theta - big_theta.mean()\n",
        "\n",
        "    first_convolution_theta_weight = torch.reshape(big_theta[self.first_convolution_weight_edges[0]:self.first_convolution_weight_edges[1]], (6,self.in_channels,5,5))\n",
        "    first_convolution_theta_bias = big_theta[self.first_convolution_bias_edges[0]:self.first_convolution_bias_edges[1]]\n",
        "    second_convolution_theta_weight = torch.reshape(big_theta[self.second_convolution_weight_edges[0]:self.second_convolution_weight_edges[1]], (self.out_channels,6,5,5))\n",
        "    second_convolution_theta_bias = big_theta[self.second_convolution_bias_edges[0]:self.second_convolution_bias_edges[1]]\n",
        "    hidden_layers_theta_weight = []\n",
        "    hidden_layers_theta_bias = []\n",
        "    for i in range(self.n_hidden_layers):\n",
        "      if i == 0:\n",
        "        hidden_layers_theta_weight.append(torch.reshape(big_theta[self.hidden_layers_weight_edges[i][0]:self.hidden_layers_weight_edges[i][1]],(self.hidden_dim, self.flatten_dim)))\n",
        "        hidden_layers_theta_bias.append(big_theta[self.hidden_layers_bias_edges[i][0]:self.hidden_layers_bias_edges[i][1]])\n",
        "        continue\n",
        "\n",
        "      hidden_layers_theta_weight.append(torch.reshape(big_theta[self.hidden_layers_weight_edges[i][0]:self.hidden_layers_weight_edges[i][1]],(self.hidden_dim, self.hidden_dim)))\n",
        "      hidden_layers_theta_bias.append(big_theta[self.hidden_layers_bias_edges[i][0]:self.hidden_layers_bias_edges[i][1]])\n",
        "\n",
        "    last_layer_theta_weight = torch.reshape(big_theta[self.last_layer_weight_edges[0]:self.last_layer_weight_edges[1]], (self.output_dim, self.hidden_dim))\n",
        "    last_layer_theta_bias = big_theta[self.last_layer_bias_edges[0]:self.last_layer_bias_edges[1]]\n",
        "\n",
        "    y = F.conv2d(x, first_convolution_theta_weight/math.sqrt(first_convolution_theta_weight.shape[1]*25), first_convolution_theta_bias/math.sqrt(first_convolution_theta_weight.shape[1]*25), padding = \"same\")\n",
        "    y = F.avg_pool2d(y,2)\n",
        "    y = F.tanh(y)\n",
        "    y = F.conv2d(y, second_convolution_theta_weight/math.sqrt(second_convolution_theta_weight.shape[1]*25), second_convolution_theta_bias/math.sqrt(second_convolution_theta_weight.shape[1]*25), padding = \"same\")\n",
        "\n",
        "    y = F.avg_pool2d(y,2)\n",
        "    y = F.tanh(y)\n",
        "    y = torch.flatten(y, start_dim = -3)\n",
        "\n",
        "    for i in range(self.n_hidden_layers):\n",
        "      y = F.linear(y,hidden_layers_theta_weight[i]/math.sqrt(hidden_layers_theta_weight[i].shape[1]), hidden_layers_theta_bias[i]/math.sqrt(hidden_layers_theta_weight[i].shape[1]))\n",
        "      y = F.relu(y)\n",
        "\n",
        "    y = F.linear(y, last_layer_theta_weight/math.sqrt(last_layer_theta_weight.shape[1]), last_layer_theta_bias/math.sqrt(last_layer_theta_weight.shape[1]))\n",
        "    return y"
      ],
      "metadata": {
        "id": "gXmnU6nf4Fv2"
      },
      "execution_count": 34,
      "outputs": []
    },
    {
      "cell_type": "markdown",
      "source": [
        "Training on MNIST"
      ],
      "metadata": {
        "id": "xY4jLJEjzp5u"
      }
    },
    {
      "cell_type": "code",
      "metadata": {
        "id": "Su0COdCqT2Wk"
      },
      "source": [
        "## import libraries\n",
        "import torch\n",
        "import torch.nn as nn\n",
        "import torch.nn.functional as F\n",
        "import torchvision\n",
        "import torchvision.transforms as transforms"
      ],
      "execution_count": 35,
      "outputs": []
    },
    {
      "cell_type": "code",
      "source": [
        "from torch.nn import Module\n",
        "from torch.nn import Conv2d\n",
        "from torch.nn import Linear\n",
        "from torch.nn import MaxPool2d\n",
        "from torch.nn import ReLU\n",
        "from torch.nn import LogSoftmax\n",
        "from torch import flatten"
      ],
      "metadata": {
        "id": "FoHHb96Ujmxg"
      },
      "execution_count": 36,
      "outputs": []
    },
    {
      "cell_type": "code",
      "metadata": {
        "id": "tSjjLXrOVWBy"
      },
      "source": [
        "%%capture\n",
        "BATCH_SIZE = 32\n",
        "\n",
        "## transformations\n",
        "transform = transforms.Compose(\n",
        "    [transforms.ToTensor()])\n",
        "\n",
        "## download and load training dataset\n",
        "trainset = torchvision.datasets.MNIST(root='./data', train=True,\n",
        "                                        download=True, transform=transform)\n",
        "trainloader = torch.utils.data.DataLoader(trainset, batch_size=BATCH_SIZE,\n",
        "                                          shuffle=True, num_workers=2)\n",
        "\n",
        "## download and load testing dataset\n",
        "testset = torchvision.datasets.MNIST(root='./data', train=False,\n",
        "                                       download=True, transform=transform)\n",
        "testloader = torch.utils.data.DataLoader(testset, batch_size=BATCH_SIZE,\n",
        "                                         shuffle=False, num_workers=2)"
      ],
      "execution_count": 37,
      "outputs": []
    },
    {
      "cell_type": "code",
      "metadata": {
        "id": "3_0Vjq2RHlph"
      },
      "source": [
        "learning_rate = 0.001\n",
        "num_epochs = 5\n",
        "\n",
        "device = torch.device(\"cuda:0\" if torch.cuda.is_available() else \"cpu\")\n",
        "model = myTransformLeNet(1000, device = device, transform = \"cosine\")\n",
        "model = model.to(device)\n",
        "\n",
        "model.theta = model.theta.to(dev)\n",
        "criterion = nn.CrossEntropyLoss()\n",
        "optimizer = torch.optim.Adam(model.parameters(), lr=learning_rate)"
      ],
      "execution_count": 38,
      "outputs": []
    },
    {
      "cell_type": "code",
      "source": [
        "p_count = 0\n",
        "for i in model.parameters():\n",
        "  p_count+= i.nelement()\n",
        "p_count"
      ],
      "metadata": {
        "colab": {
          "base_uri": "https://localhost:8080/"
        },
        "id": "N_RwO9J_a33r",
        "outputId": "ff50ba10-5dd0-41c0-f756-74654b3d131d"
      },
      "execution_count": 39,
      "outputs": [
        {
          "output_type": "execute_result",
          "data": {
            "text/plain": [
              "1000"
            ]
          },
          "metadata": {},
          "execution_count": 39
        }
      ]
    },
    {
      "cell_type": "code",
      "metadata": {
        "id": "44IdrNNeIi_I"
      },
      "source": [
        "## compute accuracy\n",
        "def get_accuracy(logit, target, batch_size):\n",
        "    ''' Obtain accuracy for training round '''\n",
        "    corrects = (torch.max(logit, 1)[1].view(target.size()).data == target.data).sum()\n",
        "    accuracy = 100.0 * corrects/batch_size\n",
        "    return accuracy.item()"
      ],
      "execution_count": 40,
      "outputs": []
    },
    {
      "cell_type": "code",
      "metadata": {
        "id": "E59hwZlAIVcL",
        "outputId": "fabe2a68-d953-4303-cdc8-ab075535788c",
        "colab": {
          "base_uri": "https://localhost:8080/"
        }
      },
      "source": [
        "for epoch in range(num_epochs):\n",
        "    train_running_loss = 0.0\n",
        "    train_acc = 0.0\n",
        "\n",
        "    model = model.train()\n",
        "\n",
        "    ## training step\n",
        "    for i, (images, labels) in enumerate(trainloader):\n",
        "\n",
        "        images = images.to(device)\n",
        "        labels = labels.to(device)\n",
        "\n",
        "        ## forward + backprop + loss\n",
        "        logits = model(images)\n",
        "        loss = criterion(logits, labels)\n",
        "        optimizer.zero_grad()\n",
        "        loss.backward()\n",
        "\n",
        "        ## update model params\n",
        "        optimizer.step()\n",
        "\n",
        "        train_running_loss += loss.detach().item()\n",
        "        train_acc += get_accuracy(logits, labels, BATCH_SIZE)\n",
        "\n",
        "    model.eval()\n",
        "    print('Epoch: %d | Loss: %.4f | Train Accuracy: %.2f' \\\n",
        "          %(epoch, train_running_loss / i, train_acc/i))"
      ],
      "execution_count": 41,
      "outputs": [
        {
          "output_type": "stream",
          "name": "stdout",
          "text": [
            "Epoch: 0 | Loss: 1.9346 | Train Accuracy: 49.56\n",
            "Epoch: 1 | Loss: 1.3612 | Train Accuracy: 71.61\n",
            "Epoch: 2 | Loss: 1.1397 | Train Accuracy: 78.22\n",
            "Epoch: 3 | Loss: 1.0288 | Train Accuracy: 80.43\n",
            "Epoch: 4 | Loss: 0.9639 | Train Accuracy: 81.36\n"
          ]
        }
      ]
    },
    {
      "cell_type": "code",
      "metadata": {
        "id": "YU5WR0BTUHv1",
        "colab": {
          "base_uri": "https://localhost:8080/"
        },
        "outputId": "b8c5537c-ee64-4183-af13-e65a0cc8b84a"
      },
      "source": [
        "test_acc = 0.0\n",
        "for i, (images, labels) in enumerate(testloader, 0):\n",
        "    images = images.to(device)\n",
        "    labels = labels.to(device)\n",
        "    outputs = model(images)\n",
        "    test_acc += get_accuracy(outputs, labels, BATCH_SIZE)\n",
        "\n",
        "print('Test Accuracy: %.2f'%( test_acc/i))"
      ],
      "execution_count": 42,
      "outputs": [
        {
          "output_type": "stream",
          "name": "stdout",
          "text": [
            "Test Accuracy: 82.94\n"
          ]
        }
      ]
    },
    {
      "cell_type": "markdown",
      "metadata": {
        "id": "qFWoG0-tKi_n"
      },
      "source": [
        "Training on CIFAR10"
      ]
    },
    {
      "cell_type": "code",
      "execution_count": 43,
      "metadata": {
        "colab": {
          "base_uri": "https://localhost:8080/"
        },
        "id": "kSvDOrqALMro",
        "outputId": "aaa83035-dfc3-43f4-c8de-ca78fae11edb"
      },
      "outputs": [
        {
          "output_type": "stream",
          "name": "stdout",
          "text": [
            "Downloading https://www.cs.toronto.edu/~kriz/cifar-10-python.tar.gz to ./data/cifar-10-python.tar.gz\n"
          ]
        },
        {
          "output_type": "stream",
          "name": "stderr",
          "text": [
            "100%|██████████| 170498071/170498071 [00:04<00:00, 35142118.31it/s]\n"
          ]
        },
        {
          "output_type": "stream",
          "name": "stdout",
          "text": [
            "Extracting ./data/cifar-10-python.tar.gz to ./data\n",
            "Files already downloaded and verified\n"
          ]
        }
      ],
      "source": [
        "transform = transforms.Compose(\n",
        "    [transforms.ToTensor(),\n",
        "     transforms.Normalize((0.5, 0.5, 0.5), (0.5, 0.5, 0.5))])\n",
        "\n",
        "batch_size = 4\n",
        "\n",
        "trainset = torchvision.datasets.CIFAR10(root='./data', train=True,\n",
        "                                        download=True, transform=transform)\n",
        "trainloader = torch.utils.data.DataLoader(trainset, batch_size=batch_size,\n",
        "                                          shuffle=True, num_workers=2)\n",
        "\n",
        "testset = torchvision.datasets.CIFAR10(root='./data', train=False,\n",
        "                                       download=True, transform=transform)\n",
        "testloader = torch.utils.data.DataLoader(testset, batch_size=batch_size,\n",
        "                                         shuffle=False, num_workers=2)\n",
        "\n",
        "classes = ('plane', 'car', 'bird', 'cat',\n",
        "           'deer', 'dog', 'frog', 'horse', 'ship', 'truck')"
      ]
    },
    {
      "cell_type": "code",
      "execution_count": 44,
      "metadata": {
        "id": "eGcGPKSyLQ_W"
      },
      "outputs": [],
      "source": [
        "net = myTransformLeNet(20000, in_channels = 3, input_dimension = 32, device = dev)\n",
        "criterion = nn.CrossEntropyLoss()\n",
        "optimizer = optim.SGD(net.parameters(), lr=0.001, momentum=0.9)\n",
        "net = net.to(dev)\n",
        "#net.theta = net.theta.to(dev)\n",
        "#net.projection = net.projection.to(dev)"
      ]
    },
    {
      "cell_type": "code",
      "source": [
        "net.D"
      ],
      "metadata": {
        "colab": {
          "base_uri": "https://localhost:8080/"
        },
        "id": "QKQRviFhr4Au",
        "outputId": "eee75003-b03d-4605-dacb-e8ed0f5ab8e0"
      },
      "execution_count": 45,
      "outputs": [
        {
          "output_type": "execute_result",
          "data": {
            "text/plain": [
              "141602"
            ]
          },
          "metadata": {},
          "execution_count": 45
        }
      ]
    },
    {
      "cell_type": "code",
      "execution_count": 46,
      "metadata": {
        "colab": {
          "base_uri": "https://localhost:8080/"
        },
        "id": "2ksy2qsRLTY4",
        "outputId": "7a8598b0-a694-4abd-fd94-786897a51221"
      },
      "outputs": [
        {
          "output_type": "stream",
          "name": "stdout",
          "text": [
            "[1,  2000] loss: 2.318\n",
            "[1,  4000] loss: 2.312\n",
            "[1,  6000] loss: 2.305\n",
            "[1,  8000] loss: 2.298\n",
            "[1, 10000] loss: 2.290\n",
            "[1, 12000] loss: 2.279\n",
            "Finished Training\n"
          ]
        }
      ],
      "source": [
        "for epoch in range(1):  # loop over the dataset multiple times\n",
        "\n",
        "    running_loss = 0.0\n",
        "    for i, data in enumerate(trainloader, 0):\n",
        "        # get the inputs; data is a list of [inputs, labels]\n",
        "        inputs, labels = data\n",
        "        labels = labels/10\n",
        "\n",
        "        # zero the parameter gradients\n",
        "        optimizer.zero_grad()\n",
        "\n",
        "        # forward + backward + optimize\n",
        "        inputs = inputs.to(dev)\n",
        "        labels = labels.type(torch.LongTensor)\n",
        "        labels = labels.to(dev)\n",
        "        #breakpoint()\n",
        "        outputs = net(inputs)\n",
        "        outputs = F.softmax(outputs, dim = 1)\n",
        "        outputs = torch.squeeze(outputs)\n",
        "        outputs = outputs.to(dev)\n",
        "        loss = criterion(outputs, labels)\n",
        "        loss.backward()\n",
        "        optimizer.step()\n",
        "\n",
        "        # print statistics\n",
        "        running_loss += loss.item()\n",
        "        if i % 2000 == 1999:    # print every 2000 mini-batches\n",
        "            print(f'[{epoch + 1}, {i + 1:5d}] loss: {running_loss / 2000:.3f}')\n",
        "            running_loss = 0.0\n",
        "\n",
        "print('Finished Training')"
      ]
    },
    {
      "cell_type": "markdown",
      "source": [
        "Reinforcement Learning"
      ],
      "metadata": {
        "id": "HIUrxiOQWc1d"
      }
    },
    {
      "cell_type": "markdown",
      "source": [
        "Inverted Pendulum"
      ],
      "metadata": {
        "id": "WCoyX_u-V599"
      }
    },
    {
      "cell_type": "code",
      "execution_count": 50,
      "metadata": {
        "id": "_pxHnd6hLemn"
      },
      "outputs": [],
      "source": [
        "#Two different Reinforcement Learning problems were experimented with\n",
        "#the first one is Inverted Pendulum.\n",
        "#I used this tutorial as reference https://pytorch.org/rl/tutorials/coding_ppo.html"
      ]
    },
    {
      "cell_type": "code",
      "execution_count": 51,
      "metadata": {
        "id": "HFTfHVIRL-0s",
        "colab": {
          "base_uri": "https://localhost:8080/"
        },
        "outputId": "e73d3bef-b4f2-47f8-b469-a59b35831111"
      },
      "outputs": [
        {
          "output_type": "stream",
          "name": "stdout",
          "text": [
            "Collecting torchrl\n",
            "  Downloading torchrl-0.2.1-cp310-cp310-manylinux1_x86_64.whl (5.5 MB)\n",
            "\u001b[2K     \u001b[90m━━━━━━━━━━━━━━━━━━━━━━━━━━━━━━━━━━━━━━━━\u001b[0m \u001b[32m5.5/5.5 MB\u001b[0m \u001b[31m19.0 MB/s\u001b[0m eta \u001b[36m0:00:00\u001b[0m\n",
            "\u001b[?25hRequirement already satisfied: torch>=2.1.0 in /usr/local/lib/python3.10/dist-packages (from torchrl) (2.1.0+cu118)\n",
            "Requirement already satisfied: numpy in /usr/local/lib/python3.10/dist-packages (from torchrl) (1.23.5)\n",
            "Requirement already satisfied: packaging in /usr/local/lib/python3.10/dist-packages (from torchrl) (23.2)\n",
            "Requirement already satisfied: cloudpickle in /usr/local/lib/python3.10/dist-packages (from torchrl) (2.2.1)\n",
            "Collecting tensordict>=0.2.0 (from torchrl)\n",
            "  Downloading tensordict-0.2.1-cp310-cp310-manylinux1_x86_64.whl (986 kB)\n",
            "\u001b[2K     \u001b[90m━━━━━━━━━━━━━━━━━━━━━━━━━━━━━━━━━━━━━━━━\u001b[0m \u001b[32m986.5/986.5 kB\u001b[0m \u001b[31m33.9 MB/s\u001b[0m eta \u001b[36m0:00:00\u001b[0m\n",
            "\u001b[?25hRequirement already satisfied: filelock in /usr/local/lib/python3.10/dist-packages (from torch>=2.1.0->torchrl) (3.12.4)\n",
            "Requirement already satisfied: typing-extensions in /usr/local/lib/python3.10/dist-packages (from torch>=2.1.0->torchrl) (4.5.0)\n",
            "Requirement already satisfied: sympy in /usr/local/lib/python3.10/dist-packages (from torch>=2.1.0->torchrl) (1.12)\n",
            "Requirement already satisfied: networkx in /usr/local/lib/python3.10/dist-packages (from torch>=2.1.0->torchrl) (3.2)\n",
            "Requirement already satisfied: jinja2 in /usr/local/lib/python3.10/dist-packages (from torch>=2.1.0->torchrl) (3.1.2)\n",
            "Requirement already satisfied: fsspec in /usr/local/lib/python3.10/dist-packages (from torch>=2.1.0->torchrl) (2023.6.0)\n",
            "Requirement already satisfied: triton==2.1.0 in /usr/local/lib/python3.10/dist-packages (from torch>=2.1.0->torchrl) (2.1.0)\n",
            "Requirement already satisfied: MarkupSafe>=2.0 in /usr/local/lib/python3.10/dist-packages (from jinja2->torch>=2.1.0->torchrl) (2.1.3)\n",
            "Requirement already satisfied: mpmath>=0.19 in /usr/local/lib/python3.10/dist-packages (from sympy->torch>=2.1.0->torchrl) (1.3.0)\n",
            "Installing collected packages: tensordict, torchrl\n",
            "Successfully installed tensordict-0.2.1 torchrl-0.2.1\n",
            "Requirement already satisfied: gym[mujoco] in /usr/local/lib/python3.10/dist-packages (0.25.2)\n",
            "Requirement already satisfied: numpy>=1.18.0 in /usr/local/lib/python3.10/dist-packages (from gym[mujoco]) (1.23.5)\n",
            "Requirement already satisfied: cloudpickle>=1.2.0 in /usr/local/lib/python3.10/dist-packages (from gym[mujoco]) (2.2.1)\n",
            "Requirement already satisfied: gym-notices>=0.0.4 in /usr/local/lib/python3.10/dist-packages (from gym[mujoco]) (0.0.8)\n",
            "Collecting mujoco==2.2.0 (from gym[mujoco])\n",
            "  Downloading mujoco-2.2.0-cp310-cp310-manylinux_2_17_x86_64.manylinux2014_x86_64.whl (3.6 MB)\n",
            "\u001b[2K     \u001b[90m━━━━━━━━━━━━━━━━━━━━━━━━━━━━━━━━━━━━━━━━\u001b[0m \u001b[32m3.6/3.6 MB\u001b[0m \u001b[31m13.8 MB/s\u001b[0m eta \u001b[36m0:00:00\u001b[0m\n",
            "\u001b[?25hRequirement already satisfied: imageio>=2.14.1 in /usr/local/lib/python3.10/dist-packages (from gym[mujoco]) (2.31.6)\n",
            "Requirement already satisfied: absl-py in /usr/local/lib/python3.10/dist-packages (from mujoco==2.2.0->gym[mujoco]) (1.4.0)\n",
            "Collecting glfw (from mujoco==2.2.0->gym[mujoco])\n",
            "  Downloading glfw-2.6.2-py2.py27.py3.py30.py31.py32.py33.py34.py35.py36.py37.py38-none-manylinux2014_x86_64.whl (208 kB)\n",
            "\u001b[2K     \u001b[90m━━━━━━━━━━━━━━━━━━━━━━━━━━━━━━━━━━━━━━━━\u001b[0m \u001b[32m208.2/208.2 kB\u001b[0m \u001b[31m23.6 MB/s\u001b[0m eta \u001b[36m0:00:00\u001b[0m\n",
            "\u001b[?25hRequirement already satisfied: pyopengl in /usr/local/lib/python3.10/dist-packages (from mujoco==2.2.0->gym[mujoco]) (3.1.7)\n",
            "Requirement already satisfied: pillow<10.1.0,>=8.3.2 in /usr/local/lib/python3.10/dist-packages (from imageio>=2.14.1->gym[mujoco]) (9.4.0)\n",
            "Installing collected packages: glfw, mujoco\n",
            "Successfully installed glfw-2.6.2 mujoco-2.2.0\n",
            "Requirement already satisfied: tqdm in /usr/local/lib/python3.10/dist-packages (4.66.1)\n"
          ]
        }
      ],
      "source": [
        "!pip3 install torchrl\n",
        "!pip3 install gym[mujoco]\n",
        "!pip3 install tqdm"
      ]
    },
    {
      "cell_type": "code",
      "execution_count": 52,
      "metadata": {
        "id": "jWMj4-1MMAqw",
        "colab": {
          "base_uri": "https://localhost:8080/"
        },
        "outputId": "6b9f7584-3243-4ce8-8f8b-70943ce67133"
      },
      "outputs": [
        {
          "output_type": "stream",
          "name": "stderr",
          "text": [
            "/usr/local/lib/python3.10/dist-packages/torchrl/__init__.py:32: UserWarning: failed to set start method to spawn, and current start method for mp is fork.\n",
            "  warn(\n"
          ]
        }
      ],
      "source": [
        "from collections import defaultdict\n",
        "\n",
        "import matplotlib.pyplot as plt\n",
        "import torch\n",
        "from tensordict.nn import TensorDictModule\n",
        "from tensordict.nn.distributions import NormalParamExtractor\n",
        "from torch import nn\n",
        "\n",
        "from torchrl.collectors import SyncDataCollector\n",
        "from torchrl.data.replay_buffers import ReplayBuffer\n",
        "from torchrl.data.replay_buffers.samplers import SamplerWithoutReplacement\n",
        "from torchrl.data.replay_buffers.storages import LazyTensorStorage\n",
        "from torchrl.envs import (\n",
        "    Compose,\n",
        "    DoubleToFloat,\n",
        "    ObservationNorm,\n",
        "    StepCounter,\n",
        "    TransformedEnv,\n",
        ")\n",
        "from torchrl.envs.libs.gym import GymEnv\n",
        "from torchrl.envs.utils import check_env_specs, ExplorationType, set_exploration_type\n",
        "from torchrl.modules import ProbabilisticActor, TanhNormal, ValueOperator\n",
        "from torchrl.objectives import ClipPPOLoss\n",
        "from torchrl.objectives.value import GAE\n",
        "from tqdm import tqdm"
      ]
    },
    {
      "cell_type": "code",
      "source": [
        "from collections import defaultdict\n",
        "\n",
        "import matplotlib.pyplot as plt\n",
        "import torch\n",
        "from tensordict.nn import TensorDictModule\n",
        "from tensordict.nn.distributions import NormalParamExtractor\n",
        "from torch import nn\n",
        "\n",
        "from torchrl.collectors import SyncDataCollector\n",
        "from torchrl.data.replay_buffers import ReplayBuffer\n",
        "from torchrl.data.replay_buffers.samplers import SamplerWithoutReplacement\n",
        "from torchrl.data.replay_buffers.storages import LazyTensorStorage\n",
        "from torchrl.envs import (\n",
        "    Compose,\n",
        "    DoubleToFloat,\n",
        "    ObservationNorm,\n",
        "    StepCounter,\n",
        "    TransformedEnv,\n",
        ")\n",
        "from torchrl.envs.libs.gym import GymEnv\n",
        "from torchrl.envs.utils import check_env_specs, ExplorationType, set_exploration_type\n",
        "from torchrl.modules import ProbabilisticActor, TanhNormal, ValueOperator\n",
        "from torchrl.objectives import ClipPPOLoss\n",
        "from torchrl.objectives.value import GAE\n",
        "from tqdm import tqdm"
      ],
      "metadata": {
        "id": "b5WeU0ynw8I7"
      },
      "execution_count": 53,
      "outputs": []
    },
    {
      "cell_type": "code",
      "source": [
        "device = \"cpu\"# if not torch.has_cuda else \"cuda:0\"\n",
        "num_cells = 16  # number of cells in each layer i.e. output dim.\n",
        "lr = 3e-4\n",
        "max_grad_norm = 1.0\n",
        "d = 20\n",
        "#restart"
      ],
      "metadata": {
        "id": "BB17Gmlpw-sq"
      },
      "execution_count": 54,
      "outputs": []
    },
    {
      "cell_type": "code",
      "source": [
        "frame_skip = 1\n",
        "frames_per_batch = 1000 // frame_skip\n",
        "# For a complete training, bring the number of frames up to 1M\n",
        "total_frames = 10_000 // frame_skip"
      ],
      "metadata": {
        "id": "NRt2c06cxA5W"
      },
      "execution_count": 55,
      "outputs": []
    },
    {
      "cell_type": "code",
      "source": [
        "sub_batch_size = 64  # cardinality of the sub-samples gathered from the current data in the inner loop\n",
        "num_epochs = 10  # optimisation steps per batch of data collected\n",
        "clip_epsilon = (\n",
        "    0.2  # clip value for PPO loss: see the equation in the intro for more context.\n",
        ")\n",
        "gamma = 0.99\n",
        "lmbda = 0.95\n",
        "entropy_eps = 1e-4"
      ],
      "metadata": {
        "id": "IHthKYDGxC7J"
      },
      "execution_count": 56,
      "outputs": []
    },
    {
      "cell_type": "code",
      "source": [
        "base_env = GymEnv(\"InvertedDoublePendulum-v4\", device=device, frame_skip=frame_skip)"
      ],
      "metadata": {
        "id": "VVHIA_PmxFDL"
      },
      "execution_count": 57,
      "outputs": []
    },
    {
      "cell_type": "code",
      "source": [
        "env = TransformedEnv(\n",
        "    base_env,\n",
        "    Compose(\n",
        "        # normalize observations\n",
        "        ObservationNorm(in_keys=[\"observation\"]),\n",
        "        DoubleToFloat(\n",
        "            in_keys=[\"observation\"],\n",
        "        ),\n",
        "        StepCounter(),\n",
        "    ),\n",
        ")"
      ],
      "metadata": {
        "id": "sMOB0sDGxHwa",
        "colab": {
          "base_uri": "https://localhost:8080/"
        },
        "outputId": "2621f53e-a3b3-4e89-9d4d-6ca2c0bda677"
      },
      "execution_count": 58,
      "outputs": [
        {
          "output_type": "stream",
          "name": "stderr",
          "text": [
            "/usr/local/lib/python3.10/dist-packages/ipykernel/ipkernel.py:283: DeprecationWarning: `should_run_async` will not call `transform_cell` automatically in the future. Please pass the result to `transformed_cell` argument and any exception that happen during thetransform in `preprocessing_exc_tuple` in IPython 7.17 and above.\n",
            "  and should_run_async(code)\n"
          ]
        }
      ]
    },
    {
      "cell_type": "code",
      "source": [
        "env.transform[0].init_stats(num_iter=1000, reduce_dim=0, cat_dim=0)"
      ],
      "metadata": {
        "id": "KgLsv9tLxJ5X"
      },
      "execution_count": 59,
      "outputs": []
    },
    {
      "cell_type": "code",
      "source": [
        "print(\"normalization constant shape:\", env.transform[0].loc.shape)"
      ],
      "metadata": {
        "id": "ls5n7_lqxMK-",
        "colab": {
          "base_uri": "https://localhost:8080/"
        },
        "outputId": "202bb2d6-cca4-4c8e-c92a-a82b8bb9341f"
      },
      "execution_count": 60,
      "outputs": [
        {
          "output_type": "stream",
          "name": "stdout",
          "text": [
            "normalization constant shape: torch.Size([11])\n"
          ]
        }
      ]
    },
    {
      "cell_type": "code",
      "source": [
        "print(\"observation_spec:\", env.observation_spec)\n",
        "print(\"reward_spec:\", env.reward_spec)\n",
        "print(\"done_spec:\", env.done_spec)\n",
        "print(\"action_spec:\", env.action_spec)\n",
        "print(\"state_spec:\", env.state_spec)"
      ],
      "metadata": {
        "id": "-F3wPnolxOZ8",
        "colab": {
          "base_uri": "https://localhost:8080/"
        },
        "outputId": "5e65aea0-07cb-4c76-d149-b44fd60d54f4"
      },
      "execution_count": 61,
      "outputs": [
        {
          "output_type": "stream",
          "name": "stdout",
          "text": [
            "observation_spec: CompositeSpec(\n",
            "    observation: UnboundedContinuousTensorSpec(\n",
            "        shape=torch.Size([11]),\n",
            "        space=None,\n",
            "        device=cpu,\n",
            "        dtype=torch.float32,\n",
            "        domain=continuous),\n",
            "    step_count: BoundedTensorSpec(\n",
            "        shape=torch.Size([1]),\n",
            "        space=ContinuousBox(\n",
            "            low=Tensor(shape=torch.Size([1]), device=cpu, dtype=torch.int64, contiguous=True),\n",
            "            high=Tensor(shape=torch.Size([1]), device=cpu, dtype=torch.int64, contiguous=True)),\n",
            "        device=cpu,\n",
            "        dtype=torch.int64,\n",
            "        domain=continuous), device=cpu, shape=torch.Size([]))\n",
            "reward_spec: UnboundedContinuousTensorSpec(\n",
            "    shape=torch.Size([1]),\n",
            "    space=ContinuousBox(\n",
            "        low=Tensor(shape=torch.Size([1]), device=cpu, dtype=torch.float32, contiguous=True),\n",
            "        high=Tensor(shape=torch.Size([1]), device=cpu, dtype=torch.float32, contiguous=True)),\n",
            "    device=cpu,\n",
            "    dtype=torch.float32,\n",
            "    domain=continuous)\n",
            "done_spec: CompositeSpec(\n",
            "    done: DiscreteTensorSpec(\n",
            "        shape=torch.Size([1]),\n",
            "        space=DiscreteBox(n=2),\n",
            "        device=cpu,\n",
            "        dtype=torch.bool,\n",
            "        domain=discrete),\n",
            "    terminated: DiscreteTensorSpec(\n",
            "        shape=torch.Size([1]),\n",
            "        space=DiscreteBox(n=2),\n",
            "        device=cpu,\n",
            "        dtype=torch.bool,\n",
            "        domain=discrete),\n",
            "    truncated: DiscreteTensorSpec(\n",
            "        shape=torch.Size([1]),\n",
            "        space=DiscreteBox(n=2),\n",
            "        device=cpu,\n",
            "        dtype=torch.bool,\n",
            "        domain=discrete), device=cpu, shape=torch.Size([]))\n",
            "action_spec: BoundedTensorSpec(\n",
            "    shape=torch.Size([1]),\n",
            "    space=ContinuousBox(\n",
            "        low=Tensor(shape=torch.Size([1]), device=cpu, dtype=torch.float32, contiguous=True),\n",
            "        high=Tensor(shape=torch.Size([1]), device=cpu, dtype=torch.float32, contiguous=True)),\n",
            "    device=cpu,\n",
            "    dtype=torch.float32,\n",
            "    domain=continuous)\n",
            "state_spec: CompositeSpec(\n",
            "    step_count: BoundedTensorSpec(\n",
            "        shape=torch.Size([1]),\n",
            "        space=ContinuousBox(\n",
            "            low=Tensor(shape=torch.Size([1]), device=cpu, dtype=torch.int64, contiguous=True),\n",
            "            high=Tensor(shape=torch.Size([1]), device=cpu, dtype=torch.int64, contiguous=True)),\n",
            "        device=cpu,\n",
            "        dtype=torch.int64,\n",
            "        domain=continuous), device=cpu, shape=torch.Size([]))\n"
          ]
        }
      ]
    },
    {
      "cell_type": "code",
      "source": [
        "check_env_specs(env)"
      ],
      "metadata": {
        "id": "GYX97igqxQrD",
        "colab": {
          "base_uri": "https://localhost:8080/"
        },
        "outputId": "96f2092b-81ce-4196-e45b-1a91eb8306f2"
      },
      "execution_count": 62,
      "outputs": [
        {
          "output_type": "stream",
          "name": "stdout",
          "text": [
            "check_env_specs succeeded!\n"
          ]
        }
      ]
    },
    {
      "cell_type": "code",
      "source": [
        "rollout = env.rollout(3)\n",
        "print(\"rollout of three steps:\", rollout)\n",
        "print(\"Shape of the rollout TensorDict:\", rollout.batch_size)"
      ],
      "metadata": {
        "id": "wXVOzQv-xTJ8",
        "colab": {
          "base_uri": "https://localhost:8080/"
        },
        "outputId": "d5fcaf95-6f37-4e64-eab4-885cd44c5133"
      },
      "execution_count": 63,
      "outputs": [
        {
          "output_type": "stream",
          "name": "stdout",
          "text": [
            "rollout of three steps: TensorDict(\n",
            "    fields={\n",
            "        action: Tensor(shape=torch.Size([3, 1]), device=cpu, dtype=torch.float32, is_shared=False),\n",
            "        done: Tensor(shape=torch.Size([3, 1]), device=cpu, dtype=torch.bool, is_shared=False),\n",
            "        next: TensorDict(\n",
            "            fields={\n",
            "                done: Tensor(shape=torch.Size([3, 1]), device=cpu, dtype=torch.bool, is_shared=False),\n",
            "                observation: Tensor(shape=torch.Size([3, 11]), device=cpu, dtype=torch.float32, is_shared=False),\n",
            "                reward: Tensor(shape=torch.Size([3, 1]), device=cpu, dtype=torch.float32, is_shared=False),\n",
            "                step_count: Tensor(shape=torch.Size([3, 1]), device=cpu, dtype=torch.int64, is_shared=False),\n",
            "                terminated: Tensor(shape=torch.Size([3, 1]), device=cpu, dtype=torch.bool, is_shared=False),\n",
            "                truncated: Tensor(shape=torch.Size([3, 1]), device=cpu, dtype=torch.bool, is_shared=False)},\n",
            "            batch_size=torch.Size([3]),\n",
            "            device=cpu,\n",
            "            is_shared=False),\n",
            "        observation: Tensor(shape=torch.Size([3, 11]), device=cpu, dtype=torch.float32, is_shared=False),\n",
            "        step_count: Tensor(shape=torch.Size([3, 1]), device=cpu, dtype=torch.int64, is_shared=False),\n",
            "        terminated: Tensor(shape=torch.Size([3, 1]), device=cpu, dtype=torch.bool, is_shared=False),\n",
            "        truncated: Tensor(shape=torch.Size([3, 1]), device=cpu, dtype=torch.bool, is_shared=False)},\n",
            "    batch_size=torch.Size([3]),\n",
            "    device=cpu,\n",
            "    is_shared=False)\n",
            "Shape of the rollout TensorDict: torch.Size([3])\n"
          ]
        }
      ]
    },
    {
      "cell_type": "code",
      "source": [
        "#actor_net = nn.Sequential(\n",
        "#    nn.LazyLinear(num_cells, device=device),\n",
        "#    nn.Tanh(),\n",
        "#    nn.LazyLinear(num_cells, device=device),\n",
        "#    nn.Tanh(),\n",
        "#    nn.LazyLinear(num_cells, device=device),\n",
        "#    nn.Tanh(),\n",
        "#    nn.LazyLinear(2 * env.action_spec.shape[-1], device=device),\n",
        "#    NormalParamExtractor(),\n",
        "#)"
      ],
      "metadata": {
        "id": "RIGf5gHsxWAG"
      },
      "execution_count": 64,
      "outputs": []
    },
    {
      "cell_type": "code",
      "source": [
        "class my_actor_linear(nn.Module): #this is a fully connected model,\n",
        "  def __init__(self, input_dimension, d, n_hidden_layers = 2, hidden_dim = 256, output_dim = 2* env.action_spec.shape[-1]):\n",
        "    super().__init__()\n",
        "    self.d = d\n",
        "    self.theta = nn.Parameter(torch.randn(d))\n",
        "    self.n_hidden_layers = n_hidden_layers\n",
        "    self.hidden_dim = hidden_dim\n",
        "    self.input_dimension = input_dimension\n",
        "    self.output_dim = output_dim\n",
        "    self.device = \"cpu\"\n",
        "\n",
        "    first_layer_weight_D = input_dimension * hidden_dim\n",
        "    first_layer_bias_D = hidden_dim\n",
        "    hidden_layers_weight_D = hidden_dim * hidden_dim\n",
        "    hidden_layers_bias_D = hidden_dim\n",
        "    last_layer_weight_D = hidden_dim * output_dim\n",
        "    last_layer_bias_D = output_dim\n",
        "\n",
        "    self.D = first_layer_weight_D + first_layer_bias_D + hidden_layers_weight_D*n_hidden_layers + hidden_layers_bias_D*n_hidden_layers + last_layer_weight_D + last_layer_bias_D\n",
        "    self.projection = dense_matrix(self.D, self.d)\n",
        "\n",
        "    start_counter = 0\n",
        "    end_counter = 0\n",
        "    end_counter += first_layer_weight_D\n",
        "    self.first_layer_weight_edges = ((0,end_counter))\n",
        "    start_counter = end_counter\n",
        "    end_counter += first_layer_bias_D\n",
        "    self.first_layer_bias_edges = (start_counter, end_counter)\n",
        "    start_counter = end_counter\n",
        "    self.hidden_layers_weight_edges = []\n",
        "    self.hidden_layers_bias_edges = []\n",
        "    for i in range(n_hidden_layers):\n",
        "      end_counter += hidden_layers_weight_D\n",
        "      self.hidden_layers_weight_edges.append((start_counter, end_counter))\n",
        "      start_counter = end_counter\n",
        "      end_counter += hidden_layers_bias_D\n",
        "      self.hidden_layers_bias_edges.append((start_counter, end_counter))\n",
        "      start_counter = end_counter\n",
        "\n",
        "    end_counter += last_layer_weight_D\n",
        "    self.last_layer_weight_edges = ((start_counter, end_counter))\n",
        "    start_counter = end_counter\n",
        "    end_counter +=last_layer_bias_D\n",
        "    self.last_layer_bias_edges = ((start_counter, end_counter))\n",
        "    start_counter = end_counter\n",
        "\n",
        "    self.projection = self.projection.to(device)\n",
        "    ####\n",
        "    self.param_extractor = NormalParamExtractor()\n",
        "\n",
        "\n",
        "  def forward(self, x):\n",
        "\n",
        "    big_theta = self.projection @ self.theta\n",
        "    big_theta = big_theta/big_theta.std()\n",
        "    big_theta = big_theta - big_theta.mean()\n",
        "\n",
        "    first_layer_theta_weight = torch.reshape(big_theta[self.first_layer_weight_edges[0]:self.first_layer_weight_edges[1]], (self.hidden_dim, self.input_dimension))\n",
        "    first_layer_theta_bias = big_theta[self.first_layer_bias_edges[0]:self.first_layer_bias_edges[1]]\n",
        "    hidden_layers_theta_weight = []\n",
        "    hidden_layers_theta_bias = []\n",
        "    for i in range(self.n_hidden_layers):\n",
        "\n",
        "      hidden_layers_theta_weight.append(torch.reshape(big_theta[self.hidden_layers_weight_edges[i][0]:self.hidden_layers_weight_edges[i][1]],(self.hidden_dim, self.hidden_dim)))\n",
        "      hidden_layers_theta_bias.append(big_theta[self.hidden_layers_bias_edges[i][0]:self.hidden_layers_bias_edges[i][1]])\n",
        "\n",
        "    last_layer_theta_weight = torch.reshape(big_theta[self.last_layer_weight_edges[0]:self.last_layer_weight_edges[1]], (self.output_dim, self.hidden_dim))\n",
        "    last_layer_theta_bias = big_theta[self.last_layer_bias_edges[0]:self.last_layer_bias_edges[1]]\n",
        "\n",
        "    y = F.linear(x, first_layer_theta_weight/math.sqrt(first_layer_theta_weight.shape[1]), first_layer_theta_bias/math.sqrt(first_layer_theta_weight.shape[1]))\n",
        "    y = F.relu(y)\n",
        "    for i in range(self.n_hidden_layers):\n",
        "      y = F.linear(y,hidden_layers_theta_weight[i]/math.sqrt(hidden_layers_theta_weight[i].shape[1]), hidden_layers_theta_bias[i]/math.sqrt(hidden_layers_theta_weight[i].shape[1]))\n",
        "      y = F.relu(y)\n",
        "\n",
        "    y = F.linear(y, last_layer_theta_weight/math.sqrt(last_layer_theta_weight.shape[1]), last_layer_theta_bias/math.sqrt(last_layer_theta_weight.shape[1]))\n",
        "    ####\n",
        "    y = self.param_extractor(y)\n",
        "    return y\n",
        "\n"
      ],
      "metadata": {
        "id": "WsqV5zcG5mIf"
      },
      "execution_count": 65,
      "outputs": []
    },
    {
      "cell_type": "code",
      "source": [
        "actor_net = my_actor_linear(11,d, hidden_dim = num_cells)\n",
        "my_actor_net = actor_net"
      ],
      "metadata": {
        "id": "NX2z8kW7bwXF"
      },
      "execution_count": 66,
      "outputs": []
    },
    {
      "cell_type": "code",
      "source": [
        "policy_module = TensorDictModule(\n",
        "    actor_net, in_keys=[\"observation\"], out_keys=[\"loc\", \"scale\"]\n",
        ")"
      ],
      "metadata": {
        "id": "4mhldlw6xYU7"
      },
      "execution_count": 67,
      "outputs": []
    },
    {
      "cell_type": "code",
      "source": [
        "policy_module = ProbabilisticActor(\n",
        "    module=policy_module,\n",
        "    spec=env.action_spec,\n",
        "    in_keys=[\"loc\", \"scale\"],\n",
        "    distribution_class=TanhNormal,\n",
        "    distribution_kwargs={\n",
        "        \"min\": env.action_spec.space.minimum,\n",
        "        \"max\": env.action_spec.space.maximum,\n",
        "    },\n",
        "    return_log_prob=True,\n",
        "    # we'll need the log-prob for the numerator of the importance weights\n",
        ")"
      ],
      "metadata": {
        "id": "A11ooH-2xaqQ",
        "colab": {
          "base_uri": "https://localhost:8080/"
        },
        "outputId": "75bf4432-faa0-40ee-ad60-fb43f74df284"
      },
      "execution_count": 68,
      "outputs": [
        {
          "output_type": "stream",
          "name": "stderr",
          "text": [
            "/usr/local/lib/python3.10/dist-packages/torchrl/data/tensor_specs.py:378: DeprecationWarning: <class 'torchrl.data.tensor_specs.ContinuousBox'>.minimum is going to be deprecated in favour of <class 'torchrl.data.tensor_specs.ContinuousBox'>.low\n",
            "  warnings.warn(\n",
            "/usr/local/lib/python3.10/dist-packages/torchrl/data/tensor_specs.py:386: DeprecationWarning: <class 'torchrl.data.tensor_specs.ContinuousBox'>.maximum is going to be deprecated in favour of <class 'torchrl.data.tensor_specs.ContinuousBox'>.low\n",
            "  warnings.warn(\n"
          ]
        }
      ]
    },
    {
      "cell_type": "code",
      "source": [
        "############\n",
        "my_policy_module = TensorDictModule(\n",
        "    my_actor_net, in_keys=[\"observation\"], out_keys=[\"loc\", \"scale\"]\n",
        ")\n",
        "#might need to modify this"
      ],
      "metadata": {
        "id": "3EreuHosiEve"
      },
      "execution_count": 69,
      "outputs": []
    },
    {
      "cell_type": "code",
      "source": [
        "my_actor_net._modules"
      ],
      "metadata": {
        "id": "0OlkqjptoHw2",
        "colab": {
          "base_uri": "https://localhost:8080/"
        },
        "outputId": "016cbfca-ec32-47f5-fa96-6999892e1ef7"
      },
      "execution_count": 70,
      "outputs": [
        {
          "output_type": "execute_result",
          "data": {
            "text/plain": [
              "OrderedDict([('param_extractor', NormalParamExtractor())])"
            ]
          },
          "metadata": {},
          "execution_count": 70
        }
      ]
    },
    {
      "cell_type": "code",
      "source": [
        "############\n",
        "my_policy_module = ProbabilisticActor(\n",
        "    module=my_policy_module,\n",
        "    spec=env.action_spec,\n",
        "    in_keys=[\"loc\", \"scale\"],\n",
        "    distribution_class=TanhNormal,\n",
        "    distribution_kwargs={\n",
        "        \"min\": env.action_spec.space.minimum,\n",
        "        \"max\": env.action_spec.space.maximum,\n",
        "    },\n",
        "    return_log_prob=True,\n",
        "    # we'll need the log-prob for the numerator of the importance weights\n",
        ")"
      ],
      "metadata": {
        "id": "Xod0MEViiF7r"
      },
      "execution_count": 71,
      "outputs": []
    },
    {
      "cell_type": "code",
      "source": [
        "value_net = nn.Sequential(\n",
        "    nn.LazyLinear(num_cells, device=device),\n",
        "    nn.Tanh(),\n",
        "    nn.LazyLinear(num_cells, device=device),\n",
        "    nn.Tanh(),\n",
        "    nn.LazyLinear(num_cells, device=device),\n",
        "    nn.Tanh(),\n",
        "    nn.LazyLinear(1, device=device),\n",
        ")\n",
        "\n",
        "value_module = ValueOperator(\n",
        "    module=value_net,\n",
        "    in_keys=[\"observation\"],\n",
        ")"
      ],
      "metadata": {
        "id": "kGAt6ADBxc9p",
        "colab": {
          "base_uri": "https://localhost:8080/"
        },
        "outputId": "2754e391-8df8-46c8-83ef-a97f49a2756d"
      },
      "execution_count": 72,
      "outputs": [
        {
          "output_type": "stream",
          "name": "stderr",
          "text": [
            "/usr/local/lib/python3.10/dist-packages/torch/nn/modules/lazy.py:180: UserWarning: Lazy modules are a new feature under heavy development so changes to the API or functionality can happen at any moment.\n",
            "  warnings.warn('Lazy modules are a new feature under heavy development '\n"
          ]
        }
      ]
    },
    {
      "cell_type": "code",
      "source": [],
      "metadata": {
        "id": "zPWsgCS_cKPV"
      },
      "execution_count": 72,
      "outputs": []
    },
    {
      "cell_type": "code",
      "source": [
        "print(\"Running policy:\", policy_module(env.reset()))\n",
        "print(\"Running value:\", value_module(env.reset()))"
      ],
      "metadata": {
        "id": "WAGAYDjPxfpj",
        "colab": {
          "base_uri": "https://localhost:8080/"
        },
        "outputId": "2ca8b3af-e628-45e0-d80b-82bce7b78eb4"
      },
      "execution_count": 73,
      "outputs": [
        {
          "output_type": "stream",
          "name": "stdout",
          "text": [
            "Running policy: TensorDict(\n",
            "    fields={\n",
            "        action: Tensor(shape=torch.Size([1]), device=cpu, dtype=torch.float32, is_shared=False),\n",
            "        done: Tensor(shape=torch.Size([1]), device=cpu, dtype=torch.bool, is_shared=False),\n",
            "        loc: Tensor(shape=torch.Size([1]), device=cpu, dtype=torch.float32, is_shared=False),\n",
            "        observation: Tensor(shape=torch.Size([11]), device=cpu, dtype=torch.float32, is_shared=False),\n",
            "        sample_log_prob: Tensor(shape=torch.Size([]), device=cpu, dtype=torch.float32, is_shared=False),\n",
            "        scale: Tensor(shape=torch.Size([1]), device=cpu, dtype=torch.float32, is_shared=False),\n",
            "        step_count: Tensor(shape=torch.Size([1]), device=cpu, dtype=torch.int64, is_shared=False),\n",
            "        terminated: Tensor(shape=torch.Size([1]), device=cpu, dtype=torch.bool, is_shared=False),\n",
            "        truncated: Tensor(shape=torch.Size([1]), device=cpu, dtype=torch.bool, is_shared=False)},\n",
            "    batch_size=torch.Size([]),\n",
            "    device=cpu,\n",
            "    is_shared=False)\n",
            "Running value: TensorDict(\n",
            "    fields={\n",
            "        done: Tensor(shape=torch.Size([1]), device=cpu, dtype=torch.bool, is_shared=False),\n",
            "        observation: Tensor(shape=torch.Size([11]), device=cpu, dtype=torch.float32, is_shared=False),\n",
            "        state_value: Tensor(shape=torch.Size([1]), device=cpu, dtype=torch.float32, is_shared=False),\n",
            "        step_count: Tensor(shape=torch.Size([1]), device=cpu, dtype=torch.int64, is_shared=False),\n",
            "        terminated: Tensor(shape=torch.Size([1]), device=cpu, dtype=torch.bool, is_shared=False),\n",
            "        truncated: Tensor(shape=torch.Size([1]), device=cpu, dtype=torch.bool, is_shared=False)},\n",
            "    batch_size=torch.Size([]),\n",
            "    device=cpu,\n",
            "    is_shared=False)\n"
          ]
        }
      ]
    },
    {
      "cell_type": "code",
      "source": [
        "collector = SyncDataCollector(\n",
        "    env,\n",
        "    policy_module,\n",
        "    frames_per_batch=frames_per_batch,\n",
        "    total_frames=total_frames,\n",
        "    split_trajs=False,\n",
        "    device=device,\n",
        ")"
      ],
      "metadata": {
        "id": "H8kZAqATxiiM"
      },
      "execution_count": 74,
      "outputs": []
    },
    {
      "cell_type": "code",
      "source": [
        "#########\n",
        "my_collector = SyncDataCollector(\n",
        "    env,\n",
        "    my_policy_module,\n",
        "    frames_per_batch=frames_per_batch,\n",
        "    total_frames=total_frames,\n",
        "    split_trajs=False,\n",
        "    device=device,\n",
        ")"
      ],
      "metadata": {
        "id": "tQmWTkAnpbbp"
      },
      "execution_count": 75,
      "outputs": []
    },
    {
      "cell_type": "code",
      "source": [
        "replay_buffer = ReplayBuffer(\n",
        "    storage=LazyTensorStorage(frames_per_batch),\n",
        "    sampler=SamplerWithoutReplacement(),\n",
        ")"
      ],
      "metadata": {
        "id": "KrWiKccgxkw4"
      },
      "execution_count": 76,
      "outputs": []
    },
    {
      "cell_type": "code",
      "source": [
        "advantage_module = GAE(\n",
        "    gamma=gamma, lmbda=lmbda, value_network=value_module, average_gae=True\n",
        ")\n",
        "\n",
        "loss_module = ClipPPOLoss(\n",
        "    actor=policy_module,\n",
        "    critic=value_module,\n",
        "    clip_epsilon=clip_epsilon,\n",
        "    entropy_bonus=bool(entropy_eps),\n",
        "    entropy_coef=entropy_eps,\n",
        "    # these keys match by default but we set this for completeness\n",
        "    value_target_key=advantage_module.value_target_key,\n",
        "    critic_coef=1.0,\n",
        "    gamma=0.99,\n",
        "    loss_critic_type=\"smooth_l1\",\n",
        ")\n",
        "\n",
        "optim = torch.optim.Adam(loss_module.parameters(), lr)\n",
        "scheduler = torch.optim.lr_scheduler.CosineAnnealingLR(\n",
        "    optim, total_frames // frames_per_batch, 0.0\n",
        ")"
      ],
      "metadata": {
        "id": "yo5D8qZ0xnDa",
        "colab": {
          "base_uri": "https://localhost:8080/"
        },
        "outputId": "a9223c9e-7a7f-4e6f-d005-e7486b353c10"
      },
      "execution_count": 77,
      "outputs": [
        {
          "output_type": "stream",
          "name": "stderr",
          "text": [
            "/usr/local/lib/python3.10/dist-packages/torchrl/objectives/ppo.py:298: DeprecationWarning: Passing gamma / lambda parameters through the loss constructor is deprecated and will be removed soon. To customize your value function, run `loss_module.make_value_estimator(ValueEstimators.<value_fun>, gamma=val)`.\n",
            "  warnings.warn(_GAMMA_LMBDA_DEPREC_WARNING, category=DeprecationWarning)\n",
            "/usr/local/lib/python3.10/dist-packages/torchrl/objectives/common.py:123: DeprecationWarning: Setting 'value_target' via the constructor is deprecated, use .set_keys(<key>='some_key') instead.\n",
            "  warnings.warn(\n"
          ]
        }
      ]
    },
    {
      "cell_type": "code",
      "source": [
        "logs = defaultdict(list)\n",
        "pbar = tqdm(total=total_frames * frame_skip)\n",
        "eval_str = \"\"\n",
        "\n",
        "# We iterate over the collector until it reaches the total number of frames it was\n",
        "# designed to collect:\n",
        "for i, tensordict_data in enumerate(collector):\n",
        "    # we now have a batch of data to work with. Let's learn something from it.\n",
        "    for _ in range(num_epochs):\n",
        "        # We'll need an \"advantage\" signal to make PPO work.\n",
        "        # We re-compute it at each epoch as its value depends on the value\n",
        "        # network which is updated in the inner loop.\n",
        "        with torch.no_grad():\n",
        "            advantage_module(tensordict_data)\n",
        "        data_view = tensordict_data.reshape(-1)\n",
        "        replay_buffer.extend(data_view.cpu())\n",
        "        for _ in range(frames_per_batch // sub_batch_size):\n",
        "            subdata = replay_buffer.sample(sub_batch_size)\n",
        "            loss_vals = loss_module(subdata.to(device))\n",
        "            loss_value = (\n",
        "                loss_vals[\"loss_objective\"]\n",
        "                + loss_vals[\"loss_critic\"]\n",
        "                + loss_vals[\"loss_entropy\"]\n",
        "            )\n",
        "\n",
        "            # Optimization: backward, grad clipping and optim step\n",
        "            loss_value.backward()\n",
        "            # this is not strictly mandatory but it's good practice to keep\n",
        "            # your gradient norm bounded\n",
        "            torch.nn.utils.clip_grad_norm_(loss_module.parameters(), max_grad_norm)\n",
        "            optim.step()\n",
        "            optim.zero_grad()\n",
        "\n",
        "    logs[\"reward\"].append(tensordict_data[\"next\", \"reward\"].mean().item())\n",
        "    pbar.update(tensordict_data.numel() * frame_skip)\n",
        "    cum_reward_str = (\n",
        "        f\"average reward={logs['reward'][-1]: 4.4f} (init={logs['reward'][0]: 4.4f})\"\n",
        "    )\n",
        "    logs[\"step_count\"].append(tensordict_data[\"step_count\"].max().item())\n",
        "    stepcount_str = f\"step count (max): {logs['step_count'][-1]}\"\n",
        "    logs[\"lr\"].append(optim.param_groups[0][\"lr\"])\n",
        "    lr_str = f\"lr policy: {logs['lr'][-1]: 4.4f}\"\n",
        "    if i % 10 == 0:\n",
        "        # We evaluate the policy once every 10 batches of data.\n",
        "        # Evaluation is rather simple: execute the policy without exploration\n",
        "        # (take the expected value of the action distribution) for a given\n",
        "        # number of steps (1000, which is our env horizon).\n",
        "        # The ``rollout`` method of the env can take a policy as argument:\n",
        "        # it will then execute this policy at each step.\n",
        "        with set_exploration_type(ExplorationType.MEAN), torch.no_grad():\n",
        "            # execute a rollout with the trained policy\n",
        "            eval_rollout = env.rollout(1000, policy_module)\n",
        "            logs[\"eval reward\"].append(eval_rollout[\"next\", \"reward\"].mean().item())\n",
        "            logs[\"eval reward (sum)\"].append(\n",
        "                eval_rollout[\"next\", \"reward\"].sum().item()\n",
        "            )\n",
        "            logs[\"eval step_count\"].append(eval_rollout[\"step_count\"].max().item())\n",
        "            eval_str = (\n",
        "                f\"eval cumulative reward: {logs['eval reward (sum)'][-1]: 4.4f} \"\n",
        "                f\"(init: {logs['eval reward (sum)'][0]: 4.4f}), \"\n",
        "                f\"eval step-count: {logs['eval step_count'][-1]}\"\n",
        "            )\n",
        "            del eval_rollout\n",
        "    pbar.set_description(\", \".join([eval_str, cum_reward_str, stepcount_str, lr_str]))\n",
        "\n",
        "    # We're also using a learning rate scheduler. Like the gradient clipping,\n",
        "    # this is a nice-to-have but nothing necessary for PPO to work.\n",
        "    scheduler.step()"
      ],
      "metadata": {
        "id": "d93N8sK0xseo",
        "colab": {
          "base_uri": "https://localhost:8080/"
        },
        "outputId": "c79c98f2-9576-4d47-e5a5-e2a574a6129a"
      },
      "execution_count": 78,
      "outputs": [
        {
          "output_type": "stream",
          "name": "stderr",
          "text": [
            "eval cumulative reward:  82.7972 (init:  82.7972), eval step-count: 8, average reward= 9.0714 (init= 9.0552), step count (max): 12, lr policy:  0.0000: 100%|██████████| 10000/10000 [00:50<00:00, 261.00it/s]"
          ]
        }
      ]
    },
    {
      "cell_type": "code",
      "source": [
        "plt.figure(figsize=(10, 10))\n",
        "plt.subplot(2, 2, 1)\n",
        "plt.plot(logs[\"reward\"])\n",
        "plt.title(\"training rewards (average)\")\n",
        "plt.subplot(2, 2, 2)\n",
        "plt.plot(logs[\"step_count\"])\n",
        "plt.title(\"Max step count (training)\")\n",
        "plt.subplot(2, 2, 3)\n",
        "plt.plot(logs[\"eval reward (sum)\"])\n",
        "plt.title(\"Return (test)\")\n",
        "plt.subplot(2, 2, 4)\n",
        "plt.plot(logs[\"eval step_count\"])\n",
        "plt.title(\"Max step count (test)\")\n",
        "plt.show()"
      ],
      "metadata": {
        "id": "auU6-zYww6ZQ",
        "colab": {
          "base_uri": "https://localhost:8080/",
          "height": 853
        },
        "outputId": "31dcc470-e3e6-4a0f-efc3-a2abf4d5df4b"
      },
      "execution_count": 79,
      "outputs": [
        {
          "output_type": "display_data",
          "data": {
            "text/plain": [
              "<Figure size 1000x1000 with 4 Axes>"
            ],
            "image/png": "[encoded data removed]"
          },
          "metadata": {}
        }
      ]
    },
    {
      "cell_type": "code",
      "source": [
        "#####################################\n",
        "logs = defaultdict(list)\n",
        "pbar = tqdm(total=total_frames * frame_skip)\n",
        "eval_str = \"\"\n",
        "\n",
        "# We iterate over the collector until it reaches the total number of frames it was\n",
        "# designed to collect:\n",
        "for i, tensordict_data in enumerate(my_collector):\n",
        "    # we now have a batch of data to work with. Let's learn something from it.\n",
        "    for _ in range(num_epochs):\n",
        "        # We'll need an \"advantage\" signal to make PPO work.\n",
        "        # We re-compute it at each epoch as its value depends on the value\n",
        "        # network which is updated in the inner loop.\n",
        "        with torch.no_grad():\n",
        "            advantage_module(tensordict_data)\n",
        "        data_view = tensordict_data.reshape(-1)\n",
        "        replay_buffer.extend(data_view.cpu())\n",
        "        for _ in range(frames_per_batch // sub_batch_size):\n",
        "            subdata = replay_buffer.sample(sub_batch_size)\n",
        "            loss_vals = loss_module(subdata.to(device))\n",
        "            loss_value = (\n",
        "                loss_vals[\"loss_objective\"]\n",
        "                + loss_vals[\"loss_critic\"]\n",
        "                + loss_vals[\"loss_entropy\"]\n",
        "            )\n",
        "\n",
        "            # Optimization: backward, grad clipping and optim step\n",
        "            loss_value.backward()\n",
        "            # this is not strictly mandatory but it's good practice to keep\n",
        "            # your gradient norm bounded\n",
        "            torch.nn.utils.clip_grad_norm_(loss_module.parameters(), max_grad_norm)\n",
        "            optim.step()\n",
        "            optim.zero_grad()\n",
        "\n",
        "    logs[\"reward\"].append(tensordict_data[\"next\", \"reward\"].mean().item())\n",
        "    pbar.update(tensordict_data.numel() * frame_skip)\n",
        "    cum_reward_str = (\n",
        "        f\"average reward={logs['reward'][-1]: 4.4f} (init={logs['reward'][0]: 4.4f})\"\n",
        "    )\n",
        "    logs[\"step_count\"].append(tensordict_data[\"step_count\"].max().item())\n",
        "    stepcount_str = f\"step count (max): {logs['step_count'][-1]}\"\n",
        "    logs[\"lr\"].append(optim.param_groups[0][\"lr\"])\n",
        "    lr_str = f\"lr policy: {logs['lr'][-1]: 4.4f}\"\n",
        "    if i % 10 == 0:\n",
        "        # We evaluate the policy once every 10 batches of data.\n",
        "        # Evaluation is rather simple: execute the policy without exploration\n",
        "        # (take the expected value of the action distribution) for a given\n",
        "        # number of steps (1000, which is our env horizon).\n",
        "        # The ``rollout`` method of the env can take a policy as argument:\n",
        "        # it will then execute this policy at each step.\n",
        "        with set_exploration_type(ExplorationType.MEAN), torch.no_grad():\n",
        "            # execute a rollout with the trained policy\n",
        "            eval_rollout = env.rollout(1000, policy_module)\n",
        "            logs[\"eval reward\"].append(eval_rollout[\"next\", \"reward\"].mean().item())\n",
        "            logs[\"eval reward (sum)\"].append(\n",
        "                eval_rollout[\"next\", \"reward\"].sum().item()\n",
        "            )\n",
        "            logs[\"eval step_count\"].append(eval_rollout[\"step_count\"].max().item())\n",
        "            eval_str = (\n",
        "                f\"eval cumulative reward: {logs['eval reward (sum)'][-1]: 4.4f} \"\n",
        "                f\"(init: {logs['eval reward (sum)'][0]: 4.4f}), \"\n",
        "                f\"eval step-count: {logs['eval step_count'][-1]}\"\n",
        "            )\n",
        "            del eval_rollout\n",
        "    pbar.set_description(\", \".join([eval_str, cum_reward_str, stepcount_str, lr_str]))\n",
        "\n",
        "    # We're also using a learning rate scheduler. Like the gradient clipping,\n",
        "    # this is a nice-to-have but nothing necessary for PPO to work.\n",
        "    scheduler.step()"
      ],
      "metadata": {
        "id": "_WNTQBw1puUw",
        "colab": {
          "base_uri": "https://localhost:8080/"
        },
        "outputId": "c655b7a4-3d85-421a-ab8e-488fedbbcc11"
      },
      "execution_count": 80,
      "outputs": [
        {
          "output_type": "stream",
          "name": "stderr",
          "text": [
            "\n",
            "eval cumulative reward:  82.7972 (init:  82.7972), eval step-count: 8, average reward= 9.0714 (init= 9.0552), step count (max): 12, lr policy:  0.0000: 100%|██████████| 10000/10000 [00:51<00:00, 194.41it/s]\n",
            "\n",
            " 10%|█         | 1000/10000 [00:06<01:01, 146.23it/s]\u001b[A\n",
            "eval cumulative reward:  73.2791 (init:  73.2791), eval step-count: 7, average reward= 9.0733 (init= 9.0733), step count (max): 19, lr policy:  0.0000:  10%|█         | 1000/10000 [00:06<01:01, 146.23it/s]\u001b[A\n",
            "eval cumulative reward:  73.2791 (init:  73.2791), eval step-count: 7, average reward= 9.0733 (init= 9.0733), step count (max): 19, lr policy:  0.0000:  20%|██        | 2000/10000 [00:10<00:38, 206.96it/s]\u001b[A\n",
            "eval cumulative reward:  73.2791 (init:  73.2791), eval step-count: 7, average reward= 9.0792 (init= 9.0733), step count (max): 12, lr policy:  0.0000:  20%|██        | 2000/10000 [00:10<00:38, 206.96it/s]\u001b[A\n",
            "eval cumulative reward:  73.2791 (init:  73.2791), eval step-count: 7, average reward= 9.0792 (init= 9.0733), step count (max): 12, lr policy:  0.0000:  30%|███       | 3000/10000 [00:14<00:30, 227.61it/s]\u001b[A\n",
            "eval cumulative reward:  73.2791 (init:  73.2791), eval step-count: 7, average reward= 9.0635 (init= 9.0733), step count (max): 9, lr policy:  0.0000:  30%|███       | 3000/10000 [00:14<00:30, 227.61it/s] \u001b[A\n",
            "eval cumulative reward:  73.2791 (init:  73.2791), eval step-count: 7, average reward= 9.0635 (init= 9.0733), step count (max): 9, lr policy:  0.0000:  40%|████      | 4000/10000 [00:17<00:24, 245.16it/s]\u001b[A\n",
            "eval cumulative reward:  73.2791 (init:  73.2791), eval step-count: 7, average reward= 9.0689 (init= 9.0733), step count (max): 11, lr policy:  0.0001:  40%|████      | 4000/10000 [00:17<00:24, 245.16it/s]\u001b[A\n",
            "eval cumulative reward:  73.2791 (init:  73.2791), eval step-count: 7, average reward= 9.0689 (init= 9.0733), step count (max): 11, lr policy:  0.0001:  50%|█████     | 5000/10000 [00:20<00:18, 264.56it/s]\u001b[A\n",
            "eval cumulative reward:  73.2791 (init:  73.2791), eval step-count: 7, average reward= 9.0684 (init= 9.0733), step count (max): 11, lr policy:  0.0001:  50%|█████     | 5000/10000 [00:20<00:18, 264.56it/s]\u001b[A\n",
            "eval cumulative reward:  73.2791 (init:  73.2791), eval step-count: 7, average reward= 9.0684 (init= 9.0733), step count (max): 11, lr policy:  0.0001:  60%|██████    | 6000/10000 [00:24<00:15, 259.87it/s]\u001b[A\n",
            "eval cumulative reward:  73.2791 (init:  73.2791), eval step-count: 7, average reward= 9.0706 (init= 9.0733), step count (max): 11, lr policy:  0.0002:  60%|██████    | 6000/10000 [00:24<00:15, 259.87it/s]\u001b[A\n",
            "eval cumulative reward:  73.2791 (init:  73.2791), eval step-count: 7, average reward= 9.0706 (init= 9.0733), step count (max): 11, lr policy:  0.0002:  70%|███████   | 7000/10000 [00:28<00:11, 258.75it/s]\u001b[A\n",
            "eval cumulative reward:  73.2791 (init:  73.2791), eval step-count: 7, average reward= 9.0653 (init= 9.0733), step count (max): 9, lr policy:  0.0002:  70%|███████   | 7000/10000 [00:28<00:11, 258.75it/s] \u001b[A\n",
            "eval cumulative reward:  73.2791 (init:  73.2791), eval step-count: 7, average reward= 9.0653 (init= 9.0733), step count (max): 9, lr policy:  0.0002:  80%|████████  | 8000/10000 [00:32<00:07, 270.11it/s]\u001b[A\n",
            "eval cumulative reward:  73.2791 (init:  73.2791), eval step-count: 7, average reward= 9.0738 (init= 9.0733), step count (max): 11, lr policy:  0.0002:  80%|████████  | 8000/10000 [00:32<00:07, 270.11it/s]\u001b[A\n",
            "eval cumulative reward:  73.2791 (init:  73.2791), eval step-count: 7, average reward= 9.0738 (init= 9.0733), step count (max): 11, lr policy:  0.0002:  90%|█████████ | 9000/10000 [00:35<00:03, 281.13it/s]\u001b[A\n",
            "eval cumulative reward:  73.2791 (init:  73.2791), eval step-count: 7, average reward= 9.0642 (init= 9.0733), step count (max): 10, lr policy:  0.0003:  90%|█████████ | 9000/10000 [00:35<00:03, 281.13it/s]\u001b[A\n",
            "eval cumulative reward:  73.2791 (init:  73.2791), eval step-count: 7, average reward= 9.0642 (init= 9.0733), step count (max): 10, lr policy:  0.0003: 100%|██████████| 10000/10000 [00:39<00:00, 273.80it/s]\u001b[A\n",
            "eval cumulative reward:  73.2791 (init:  73.2791), eval step-count: 7, average reward= 9.0857 (init= 9.0733), step count (max): 11, lr policy:  0.0003: 100%|██████████| 10000/10000 [00:39<00:00, 273.80it/s]\u001b[A"
          ]
        }
      ]
    },
    {
      "cell_type": "markdown",
      "metadata": {
        "id": "fAwid8RtMgtX"
      },
      "source": [
        "Cart Pole"
      ]
    },
    {
      "cell_type": "code",
      "execution_count": 81,
      "metadata": {
        "id": "ZmHJh64SMiBZ"
      },
      "outputs": [],
      "source": [
        "#The other Reinforcement Learning Problem that was experimented with is Cart Pole\n",
        "#I used this tutorial as reference\n",
        "#https://pytorch.org/tutorials/intermediate/reinforcement_q_learning.html"
      ]
    },
    {
      "cell_type": "code",
      "execution_count": 82,
      "metadata": {
        "id": "AgLyEWxq4uhL",
        "colab": {
          "base_uri": "https://localhost:8080/",
          "height": 1000
        },
        "outputId": "6eb9b89c-8b18-4e29-dfa5-d4df0047a064"
      },
      "outputs": [
        {
          "output_type": "stream",
          "name": "stdout",
          "text": [
            "Collecting gymnasium\n",
            "  Downloading gymnasium-0.29.1-py3-none-any.whl (953 kB)\n",
            "\u001b[2K     \u001b[90m━━━━━━━━━━━━━━━━━━━━━━━━━━━━━━━━━━━━━━━━\u001b[0m \u001b[32m953.9/953.9 kB\u001b[0m \u001b[31m10.3 MB/s\u001b[0m eta \u001b[36m0:00:00\u001b[0m\n",
            "\u001b[?25hRequirement already satisfied: numpy>=1.21.0 in /usr/local/lib/python3.10/dist-packages (from gymnasium) (1.23.5)\n",
            "Requirement already satisfied: cloudpickle>=1.2.0 in /usr/local/lib/python3.10/dist-packages (from gymnasium) (2.2.1)\n",
            "Requirement already satisfied: typing-extensions>=4.3.0 in /usr/local/lib/python3.10/dist-packages (from gymnasium) (4.5.0)\n",
            "Collecting farama-notifications>=0.0.1 (from gymnasium)\n",
            "  Downloading Farama_Notifications-0.0.4-py3-none-any.whl (2.5 kB)\n",
            "Installing collected packages: farama-notifications, gymnasium\n",
            "Successfully installed farama-notifications-0.0.4 gymnasium-0.29.1\n",
            "Collecting stable_baselines3\n",
            "  Downloading stable_baselines3-2.1.0-py3-none-any.whl (178 kB)\n",
            "\u001b[2K     \u001b[90m━━━━━━━━━━━━━━━━━━━━━━━━━━━━━━━━━━━━━━━━\u001b[0m \u001b[32m178.7/178.7 kB\u001b[0m \u001b[31m4.8 MB/s\u001b[0m eta \u001b[36m0:00:00\u001b[0m\n",
            "\u001b[?25hRequirement already satisfied: gymnasium<0.30,>=0.28.1 in /usr/local/lib/python3.10/dist-packages (from stable_baselines3) (0.29.1)\n",
            "Requirement already satisfied: numpy>=1.20 in /usr/local/lib/python3.10/dist-packages (from stable_baselines3) (1.23.5)\n",
            "Requirement already satisfied: torch>=1.13 in /usr/local/lib/python3.10/dist-packages (from stable_baselines3) (2.1.0+cu118)\n",
            "Requirement already satisfied: cloudpickle in /usr/local/lib/python3.10/dist-packages (from stable_baselines3) (2.2.1)\n",
            "Requirement already satisfied: pandas in /usr/local/lib/python3.10/dist-packages (from stable_baselines3) (1.5.3)\n",
            "Requirement already satisfied: matplotlib in /usr/local/lib/python3.10/dist-packages (from stable_baselines3) (3.7.1)\n",
            "Requirement already satisfied: typing-extensions>=4.3.0 in /usr/local/lib/python3.10/dist-packages (from gymnasium<0.30,>=0.28.1->stable_baselines3) (4.5.0)\n",
            "Requirement already satisfied: farama-notifications>=0.0.1 in /usr/local/lib/python3.10/dist-packages (from gymnasium<0.30,>=0.28.1->stable_baselines3) (0.0.4)\n",
            "Requirement already satisfied: filelock in /usr/local/lib/python3.10/dist-packages (from torch>=1.13->stable_baselines3) (3.12.4)\n",
            "Requirement already satisfied: sympy in /usr/local/lib/python3.10/dist-packages (from torch>=1.13->stable_baselines3) (1.12)\n",
            "Requirement already satisfied: networkx in /usr/local/lib/python3.10/dist-packages (from torch>=1.13->stable_baselines3) (3.2)\n",
            "Requirement already satisfied: jinja2 in /usr/local/lib/python3.10/dist-packages (from torch>=1.13->stable_baselines3) (3.1.2)\n",
            "Requirement already satisfied: fsspec in /usr/local/lib/python3.10/dist-packages (from torch>=1.13->stable_baselines3) (2023.6.0)\n",
            "Requirement already satisfied: triton==2.1.0 in /usr/local/lib/python3.10/dist-packages (from torch>=1.13->stable_baselines3) (2.1.0)\n",
            "Requirement already satisfied: contourpy>=1.0.1 in /usr/local/lib/python3.10/dist-packages (from matplotlib->stable_baselines3) (1.1.1)\n",
            "Requirement already satisfied: cycler>=0.10 in /usr/local/lib/python3.10/dist-packages (from matplotlib->stable_baselines3) (0.12.1)\n",
            "Requirement already satisfied: fonttools>=4.22.0 in /usr/local/lib/python3.10/dist-packages (from matplotlib->stable_baselines3) (4.43.1)\n",
            "Requirement already satisfied: kiwisolver>=1.0.1 in /usr/local/lib/python3.10/dist-packages (from matplotlib->stable_baselines3) (1.4.5)\n",
            "Requirement already satisfied: packaging>=20.0 in /usr/local/lib/python3.10/dist-packages (from matplotlib->stable_baselines3) (23.2)\n",
            "Requirement already satisfied: pillow>=6.2.0 in /usr/local/lib/python3.10/dist-packages (from matplotlib->stable_baselines3) (9.4.0)\n",
            "Requirement already satisfied: pyparsing>=2.3.1 in /usr/local/lib/python3.10/dist-packages (from matplotlib->stable_baselines3) (3.1.1)\n",
            "Requirement already satisfied: python-dateutil>=2.7 in /usr/local/lib/python3.10/dist-packages (from matplotlib->stable_baselines3) (2.8.2)\n",
            "Requirement already satisfied: pytz>=2020.1 in /usr/local/lib/python3.10/dist-packages (from pandas->stable_baselines3) (2023.3.post1)\n",
            "Requirement already satisfied: six>=1.5 in /usr/local/lib/python3.10/dist-packages (from python-dateutil>=2.7->matplotlib->stable_baselines3) (1.16.0)\n",
            "Requirement already satisfied: MarkupSafe>=2.0 in /usr/local/lib/python3.10/dist-packages (from jinja2->torch>=1.13->stable_baselines3) (2.1.3)\n",
            "Requirement already satisfied: mpmath>=0.19 in /usr/local/lib/python3.10/dist-packages (from sympy->torch>=1.13->stable_baselines3) (1.3.0)\n",
            "Installing collected packages: stable_baselines3\n",
            "Successfully installed stable_baselines3-2.1.0\n",
            "Collecting swig\n",
            "  Downloading swig-4.1.1-py2.py3-none-manylinux_2_5_x86_64.manylinux1_x86_64.whl (1.8 MB)\n",
            "\u001b[2K     \u001b[90m━━━━━━━━━━━━━━━━━━━━━━━━━━━━━━━━━━━━━━━━\u001b[0m \u001b[32m1.8/1.8 MB\u001b[0m \u001b[31m26.9 MB/s\u001b[0m eta \u001b[36m0:00:00\u001b[0m\n",
            "\u001b[?25h"
          ]
        },
        {
          "output_type": "stream",
          "name": "stderr",
          "text": [
            "\n",
            "eval cumulative reward:  73.2791 (init:  73.2791), eval step-count: 7, average reward= 9.0857 (init= 9.0733), step count (max): 11, lr policy:  0.0003: 100%|██████████| 10000/10000 [00:53<00:00, 273.80it/s]\u001b[A"
          ]
        },
        {
          "output_type": "stream",
          "name": "stdout",
          "text": [
            "Installing collected packages: swig\n",
            "Successfully installed swig-4.1.1\n",
            "Requirement already satisfied: gymnasium[box2d] in /usr/local/lib/python3.10/dist-packages (0.29.1)\n",
            "Requirement already satisfied: numpy>=1.21.0 in /usr/local/lib/python3.10/dist-packages (from gymnasium[box2d]) (1.23.5)\n",
            "Requirement already satisfied: cloudpickle>=1.2.0 in /usr/local/lib/python3.10/dist-packages (from gymnasium[box2d]) (2.2.1)\n",
            "Requirement already satisfied: typing-extensions>=4.3.0 in /usr/local/lib/python3.10/dist-packages (from gymnasium[box2d]) (4.5.0)\n",
            "Requirement already satisfied: farama-notifications>=0.0.1 in /usr/local/lib/python3.10/dist-packages (from gymnasium[box2d]) (0.0.4)\n",
            "Collecting box2d-py==2.3.5 (from gymnasium[box2d])\n",
            "  Downloading box2d-py-2.3.5.tar.gz (374 kB)\n",
            "\u001b[2K     \u001b[90m━━━━━━━━━━━━━━━━━━━━━━━━━━━━━━━━━━━━━━━━\u001b[0m \u001b[32m374.4/374.4 kB\u001b[0m \u001b[31m8.6 MB/s\u001b[0m eta \u001b[36m0:00:00\u001b[0m\n",
            "\u001b[?25h  Preparing metadata (setup.py) ... \u001b[?25l\u001b[?25hdone\n",
            "Requirement already satisfied: pygame>=2.1.3 in /usr/local/lib/python3.10/dist-packages (from gymnasium[box2d]) (2.5.2)\n",
            "Requirement already satisfied: swig==4.* in /usr/local/lib/python3.10/dist-packages (from gymnasium[box2d]) (4.1.1)\n",
            "Building wheels for collected packages: box2d-py\n",
            "  Building wheel for box2d-py (setup.py) ... \u001b[?25l\u001b[?25hdone\n",
            "  Created wheel for box2d-py: filename=box2d_py-2.3.5-cp310-cp310-linux_x86_64.whl size=2373073 sha256=100eb18a4b9b0a84b922a3d5cf0ca4ef64a3f6d193e94ad7b59a8ba2f5c11db5\n",
            "  Stored in directory: /root/.cache/pip/wheels/db/8f/6a/eaaadf056fba10a98d986f6dce954e6201ba3126926fc5ad9e\n",
            "Successfully built box2d-py\n",
            "Installing collected packages: box2d-py\n",
            "Successfully installed box2d-py-2.3.5\n",
            "Collecting tianshou\n",
            "  Downloading tianshou-0.5.1-py3-none-any.whl (163 kB)\n",
            "\u001b[2K     \u001b[90m━━━━━━━━━━━━━━━━━━━━━━━━━━━━━━━━━━━━━━━━\u001b[0m \u001b[32m163.1/163.1 kB\u001b[0m \u001b[31m3.7 MB/s\u001b[0m eta \u001b[36m0:00:00\u001b[0m\n",
            "\u001b[?25hRequirement already satisfied: gymnasium>=0.26.0 in /usr/local/lib/python3.10/dist-packages (from tianshou) (0.29.1)\n",
            "Requirement already satisfied: tqdm in /usr/local/lib/python3.10/dist-packages (from tianshou) (4.66.1)\n",
            "Requirement already satisfied: numpy>1.16.0 in /usr/local/lib/python3.10/dist-packages (from tianshou) (1.23.5)\n",
            "Requirement already satisfied: tensorboard>=2.5.0 in /usr/local/lib/python3.10/dist-packages (from tianshou) (2.14.1)\n",
            "Requirement already satisfied: torch>=1.4.0 in /usr/local/lib/python3.10/dist-packages (from tianshou) (2.1.0+cu118)\n",
            "Requirement already satisfied: numba>=0.51.0 in /usr/local/lib/python3.10/dist-packages (from tianshou) (0.56.4)\n",
            "Requirement already satisfied: h5py>=2.10.0 in /usr/local/lib/python3.10/dist-packages (from tianshou) (3.9.0)\n",
            "Requirement already satisfied: packaging in /usr/local/lib/python3.10/dist-packages (from tianshou) (23.2)\n",
            "Collecting pettingzoo>=1.22 (from tianshou)\n",
            "  Downloading pettingzoo-1.24.1-py3-none-any.whl (840 kB)\n",
            "\u001b[2K     \u001b[90m━━━━━━━━━━━━━━━━━━━━━━━━━━━━━━━━━━━━━━━━\u001b[0m \u001b[32m840.8/840.8 kB\u001b[0m \u001b[31m9.9 MB/s\u001b[0m eta \u001b[36m0:00:00\u001b[0m\n",
            "\u001b[?25hRequirement already satisfied: cloudpickle>=1.2.0 in /usr/local/lib/python3.10/dist-packages (from gymnasium>=0.26.0->tianshou) (2.2.1)\n",
            "Requirement already satisfied: typing-extensions>=4.3.0 in /usr/local/lib/python3.10/dist-packages (from gymnasium>=0.26.0->tianshou) (4.5.0)\n",
            "Requirement already satisfied: farama-notifications>=0.0.1 in /usr/local/lib/python3.10/dist-packages (from gymnasium>=0.26.0->tianshou) (0.0.4)\n",
            "Requirement already satisfied: llvmlite<0.40,>=0.39.0dev0 in /usr/local/lib/python3.10/dist-packages (from numba>=0.51.0->tianshou) (0.39.1)\n",
            "Requirement already satisfied: setuptools in /usr/local/lib/python3.10/dist-packages (from numba>=0.51.0->tianshou) (67.7.2)\n",
            "Requirement already satisfied: absl-py>=0.4 in /usr/local/lib/python3.10/dist-packages (from tensorboard>=2.5.0->tianshou) (1.4.0)\n",
            "Requirement already satisfied: grpcio>=1.48.2 in /usr/local/lib/python3.10/dist-packages (from tensorboard>=2.5.0->tianshou) (1.59.0)\n",
            "Requirement already satisfied: google-auth<3,>=1.6.3 in /usr/local/lib/python3.10/dist-packages (from tensorboard>=2.5.0->tianshou) (2.17.3)\n",
            "Requirement already satisfied: google-auth-oauthlib<1.1,>=0.5 in /usr/local/lib/python3.10/dist-packages (from tensorboard>=2.5.0->tianshou) (1.0.0)\n",
            "Requirement already satisfied: markdown>=2.6.8 in /usr/local/lib/python3.10/dist-packages (from tensorboard>=2.5.0->tianshou) (3.5)\n",
            "Requirement already satisfied: protobuf>=3.19.6 in /usr/local/lib/python3.10/dist-packages (from tensorboard>=2.5.0->tianshou) (3.20.3)\n",
            "Requirement already satisfied: requests<3,>=2.21.0 in /usr/local/lib/python3.10/dist-packages (from tensorboard>=2.5.0->tianshou) (2.31.0)\n",
            "Requirement already satisfied: six>1.9 in /usr/local/lib/python3.10/dist-packages (from tensorboard>=2.5.0->tianshou) (1.16.0)\n",
            "Requirement already satisfied: tensorboard-data-server<0.8.0,>=0.7.0 in /usr/local/lib/python3.10/dist-packages (from tensorboard>=2.5.0->tianshou) (0.7.2)\n",
            "Requirement already satisfied: werkzeug>=1.0.1 in /usr/local/lib/python3.10/dist-packages (from tensorboard>=2.5.0->tianshou) (3.0.1)\n",
            "Requirement already satisfied: filelock in /usr/local/lib/python3.10/dist-packages (from torch>=1.4.0->tianshou) (3.12.4)\n",
            "Requirement already satisfied: sympy in /usr/local/lib/python3.10/dist-packages (from torch>=1.4.0->tianshou) (1.12)\n",
            "Requirement already satisfied: networkx in /usr/local/lib/python3.10/dist-packages (from torch>=1.4.0->tianshou) (3.2)\n",
            "Requirement already satisfied: jinja2 in /usr/local/lib/python3.10/dist-packages (from torch>=1.4.0->tianshou) (3.1.2)\n",
            "Requirement already satisfied: fsspec in /usr/local/lib/python3.10/dist-packages (from torch>=1.4.0->tianshou) (2023.6.0)\n",
            "Requirement already satisfied: triton==2.1.0 in /usr/local/lib/python3.10/dist-packages (from torch>=1.4.0->tianshou) (2.1.0)\n",
            "Requirement already satisfied: cachetools<6.0,>=2.0.0 in /usr/local/lib/python3.10/dist-packages (from google-auth<3,>=1.6.3->tensorboard>=2.5.0->tianshou) (5.3.2)\n",
            "Requirement already satisfied: pyasn1-modules>=0.2.1 in /usr/local/lib/python3.10/dist-packages (from google-auth<3,>=1.6.3->tensorboard>=2.5.0->tianshou) (0.3.0)\n",
            "Requirement already satisfied: rsa<5,>=3.1.4 in /usr/local/lib/python3.10/dist-packages (from google-auth<3,>=1.6.3->tensorboard>=2.5.0->tianshou) (4.9)\n",
            "Requirement already satisfied: requests-oauthlib>=0.7.0 in /usr/local/lib/python3.10/dist-packages (from google-auth-oauthlib<1.1,>=0.5->tensorboard>=2.5.0->tianshou) (1.3.1)\n",
            "Requirement already satisfied: charset-normalizer<4,>=2 in /usr/local/lib/python3.10/dist-packages (from requests<3,>=2.21.0->tensorboard>=2.5.0->tianshou) (3.3.1)\n",
            "Requirement already satisfied: idna<4,>=2.5 in /usr/local/lib/python3.10/dist-packages (from requests<3,>=2.21.0->tensorboard>=2.5.0->tianshou) (3.4)\n",
            "Requirement already satisfied: urllib3<3,>=1.21.1 in /usr/local/lib/python3.10/dist-packages (from requests<3,>=2.21.0->tensorboard>=2.5.0->tianshou) (2.0.7)\n",
            "Requirement already satisfied: certifi>=2017.4.17 in /usr/local/lib/python3.10/dist-packages (from requests<3,>=2.21.0->tensorboard>=2.5.0->tianshou) (2023.7.22)\n",
            "Requirement already satisfied: MarkupSafe>=2.1.1 in /usr/local/lib/python3.10/dist-packages (from werkzeug>=1.0.1->tensorboard>=2.5.0->tianshou) (2.1.3)\n",
            "Requirement already satisfied: mpmath>=0.19 in /usr/local/lib/python3.10/dist-packages (from sympy->torch>=1.4.0->tianshou) (1.3.0)\n",
            "Requirement already satisfied: pyasn1<0.6.0,>=0.4.6 in /usr/local/lib/python3.10/dist-packages (from pyasn1-modules>=0.2.1->google-auth<3,>=1.6.3->tensorboard>=2.5.0->tianshou) (0.5.0)\n",
            "Requirement already satisfied: oauthlib>=3.0.0 in /usr/local/lib/python3.10/dist-packages (from requests-oauthlib>=0.7.0->google-auth-oauthlib<1.1,>=0.5->tensorboard>=2.5.0->tianshou) (3.2.2)\n",
            "Installing collected packages: pettingzoo, tianshou\n",
            "Successfully installed pettingzoo-1.24.1 tianshou-0.5.1\n",
            "Requirement already satisfied: gym[accept-rom-license,atari] in /usr/local/lib/python3.10/dist-packages (0.25.2)\n",
            "Requirement already satisfied: numpy>=1.18.0 in /usr/local/lib/python3.10/dist-packages (from gym[accept-rom-license,atari]) (1.23.5)\n",
            "Requirement already satisfied: cloudpickle>=1.2.0 in /usr/local/lib/python3.10/dist-packages (from gym[accept-rom-license,atari]) (2.2.1)\n",
            "Requirement already satisfied: gym-notices>=0.0.4 in /usr/local/lib/python3.10/dist-packages (from gym[accept-rom-license,atari]) (0.0.8)\n",
            "Collecting autorom[accept-rom-license]~=0.4.2 (from gym[accept-rom-license,atari])\n",
            "  Downloading AutoROM-0.4.2-py3-none-any.whl (16 kB)\n",
            "Collecting ale-py~=0.7.5 (from gym[accept-rom-license,atari])\n",
            "  Downloading ale_py-0.7.5-cp310-cp310-manylinux_2_17_x86_64.manylinux2014_x86_64.whl (1.6 MB)\n",
            "\u001b[2K     \u001b[90m━━━━━━━━━━━━━━━━━━━━━━━━━━━━━━━━━━━━━━━━\u001b[0m \u001b[32m1.6/1.6 MB\u001b[0m \u001b[31m10.9 MB/s\u001b[0m eta \u001b[36m0:00:00\u001b[0m\n",
            "\u001b[?25hRequirement already satisfied: importlib-resources in /usr/local/lib/python3.10/dist-packages (from ale-py~=0.7.5->gym[accept-rom-license,atari]) (6.1.0)\n",
            "Requirement already satisfied: click in /usr/local/lib/python3.10/dist-packages (from autorom[accept-rom-license]~=0.4.2->gym[accept-rom-license,atari]) (8.1.7)\n",
            "Requirement already satisfied: requests in /usr/local/lib/python3.10/dist-packages (from autorom[accept-rom-license]~=0.4.2->gym[accept-rom-license,atari]) (2.31.0)\n",
            "Requirement already satisfied: tqdm in /usr/local/lib/python3.10/dist-packages (from autorom[accept-rom-license]~=0.4.2->gym[accept-rom-license,atari]) (4.66.1)\n",
            "Collecting AutoROM.accept-rom-license (from autorom[accept-rom-license]~=0.4.2->gym[accept-rom-license,atari])\n",
            "  Downloading AutoROM.accept-rom-license-0.6.1.tar.gz (434 kB)\n",
            "\u001b[2K     \u001b[90m━━━━━━━━━━━━━━━━━━━━━━━━━━━━━━━━━━━━━━━━\u001b[0m \u001b[32m434.7/434.7 kB\u001b[0m \u001b[31m15.4 MB/s\u001b[0m eta \u001b[36m0:00:00\u001b[0m\n",
            "\u001b[?25h  Installing build dependencies ... \u001b[?25l\u001b[?25hdone\n",
            "  Getting requirements to build wheel ... \u001b[?25l\u001b[?25hdone\n",
            "  Preparing metadata (pyproject.toml) ... \u001b[?25l\u001b[?25hdone\n",
            "Requirement already satisfied: charset-normalizer<4,>=2 in /usr/local/lib/python3.10/dist-packages (from requests->autorom[accept-rom-license]~=0.4.2->gym[accept-rom-license,atari]) (3.3.1)\n",
            "Requirement already satisfied: idna<4,>=2.5 in /usr/local/lib/python3.10/dist-packages (from requests->autorom[accept-rom-license]~=0.4.2->gym[accept-rom-license,atari]) (3.4)\n",
            "Requirement already satisfied: urllib3<3,>=1.21.1 in /usr/local/lib/python3.10/dist-packages (from requests->autorom[accept-rom-license]~=0.4.2->gym[accept-rom-license,atari]) (2.0.7)\n",
            "Requirement already satisfied: certifi>=2017.4.17 in /usr/local/lib/python3.10/dist-packages (from requests->autorom[accept-rom-license]~=0.4.2->gym[accept-rom-license,atari]) (2023.7.22)\n",
            "Building wheels for collected packages: AutoROM.accept-rom-license\n",
            "  Building wheel for AutoROM.accept-rom-license (pyproject.toml) ... \u001b[?25l\u001b[?25hdone\n",
            "  Created wheel for AutoROM.accept-rom-license: filename=AutoROM.accept_rom_license-0.6.1-py3-none-any.whl size=446660 sha256=ec8e1d269a59b5b0d6074d0a6ac0bb728a8722ea656f13781a66c154e86edd76\n",
            "  Stored in directory: /root/.cache/pip/wheels/6b/1b/ef/a43ff1a2f1736d5711faa1ba4c1f61be1131b8899e6a057811\n",
            "Successfully built AutoROM.accept-rom-license\n",
            "Installing collected packages: ale-py, AutoROM.accept-rom-license, autorom\n",
            "Successfully installed AutoROM.accept-rom-license-0.6.1 ale-py-0.7.5 autorom-0.4.2\n"
          ]
        },
        {
          "output_type": "display_data",
          "data": {
            "application/vnd.colab-display-data+json": {
              "pip_warning": {
                "packages": [
                  "gym"
                ]
              }
            }
          },
          "metadata": {}
        },
        {
          "output_type": "stream",
          "name": "stdout",
          "text": [
            "/bin/bash: line 1: gym[accept-rom-license]: command not found\n",
            "Requirement already satisfied: gymnasium[accept-rom-license,atari] in /usr/local/lib/python3.10/dist-packages (0.29.1)\n",
            "Requirement already satisfied: numpy>=1.21.0 in /usr/local/lib/python3.10/dist-packages (from gymnasium[accept-rom-license,atari]) (1.23.5)\n",
            "Requirement already satisfied: cloudpickle>=1.2.0 in /usr/local/lib/python3.10/dist-packages (from gymnasium[accept-rom-license,atari]) (2.2.1)\n",
            "Requirement already satisfied: typing-extensions>=4.3.0 in /usr/local/lib/python3.10/dist-packages (from gymnasium[accept-rom-license,atari]) (4.5.0)\n",
            "Requirement already satisfied: farama-notifications>=0.0.1 in /usr/local/lib/python3.10/dist-packages (from gymnasium[accept-rom-license,atari]) (0.0.4)\n",
            "Requirement already satisfied: autorom[accept-rom-license]~=0.4.2 in /usr/local/lib/python3.10/dist-packages (from gymnasium[accept-rom-license,atari]) (0.4.2)\n",
            "Collecting shimmy[atari]<1.0,>=0.1.0 (from gymnasium[accept-rom-license,atari])\n",
            "  Downloading Shimmy-0.2.1-py3-none-any.whl (25 kB)\n",
            "Requirement already satisfied: click in /usr/local/lib/python3.10/dist-packages (from autorom[accept-rom-license]~=0.4.2->gymnasium[accept-rom-license,atari]) (8.1.7)\n",
            "Requirement already satisfied: requests in /usr/local/lib/python3.10/dist-packages (from autorom[accept-rom-license]~=0.4.2->gymnasium[accept-rom-license,atari]) (2.31.0)\n",
            "Requirement already satisfied: tqdm in /usr/local/lib/python3.10/dist-packages (from autorom[accept-rom-license]~=0.4.2->gymnasium[accept-rom-license,atari]) (4.66.1)\n",
            "Requirement already satisfied: AutoROM.accept-rom-license in /usr/local/lib/python3.10/dist-packages (from autorom[accept-rom-license]~=0.4.2->gymnasium[accept-rom-license,atari]) (0.6.1)\n",
            "Collecting ale-py~=0.8.1 (from shimmy[atari]<1.0,>=0.1.0->gymnasium[accept-rom-license,atari])\n",
            "  Downloading ale_py-0.8.1-cp310-cp310-manylinux_2_17_x86_64.manylinux2014_x86_64.whl (1.7 MB)\n",
            "\u001b[2K     \u001b[90m━━━━━━━━━━━━━━━━━━━━━━━━━━━━━━━━━━━━━━━━\u001b[0m \u001b[32m1.7/1.7 MB\u001b[0m \u001b[31m18.1 MB/s\u001b[0m eta \u001b[36m0:00:00\u001b[0m\n",
            "\u001b[?25hRequirement already satisfied: importlib-resources in /usr/local/lib/python3.10/dist-packages (from ale-py~=0.8.1->shimmy[atari]<1.0,>=0.1.0->gymnasium[accept-rom-license,atari]) (6.1.0)\n",
            "Requirement already satisfied: charset-normalizer<4,>=2 in /usr/local/lib/python3.10/dist-packages (from requests->autorom[accept-rom-license]~=0.4.2->gymnasium[accept-rom-license,atari]) (3.3.1)\n",
            "Requirement already satisfied: idna<4,>=2.5 in /usr/local/lib/python3.10/dist-packages (from requests->autorom[accept-rom-license]~=0.4.2->gymnasium[accept-rom-license,atari]) (3.4)\n",
            "Requirement already satisfied: urllib3<3,>=1.21.1 in /usr/local/lib/python3.10/dist-packages (from requests->autorom[accept-rom-license]~=0.4.2->gymnasium[accept-rom-license,atari]) (2.0.7)\n",
            "Requirement already satisfied: certifi>=2017.4.17 in /usr/local/lib/python3.10/dist-packages (from requests->autorom[accept-rom-license]~=0.4.2->gymnasium[accept-rom-license,atari]) (2023.7.22)\n",
            "Installing collected packages: ale-py, shimmy\n",
            "  Attempting uninstall: ale-py\n",
            "    Found existing installation: ale-py 0.7.5\n",
            "    Uninstalling ale-py-0.7.5:\n",
            "      Successfully uninstalled ale-py-0.7.5\n",
            "Successfully installed ale-py-0.8.1 shimmy-0.2.1\n",
            "Collecting envpool\n",
            "  Downloading envpool-0.8.4-cp310-cp310-manylinux_2_24_x86_64.whl (74.9 MB)\n",
            "\u001b[2K     \u001b[90m━━━━━━━━━━━━━━━━━━━━━━━━━━━━━━━━━━━━━━━━\u001b[0m \u001b[32m74.9/74.9 MB\u001b[0m \u001b[31m11.3 MB/s\u001b[0m eta \u001b[36m0:00:00\u001b[0m\n",
            "\u001b[?25hCollecting dm-env>=1.4 (from envpool)\n",
            "  Downloading dm_env-1.6-py3-none-any.whl (26 kB)\n",
            "Requirement already satisfied: gym>=0.18 in /usr/local/lib/python3.10/dist-packages (from envpool) (0.25.2)\n",
            "Requirement already satisfied: gymnasium>=0.26 in /usr/local/lib/python3.10/dist-packages (from envpool) (0.29.1)\n",
            "Requirement already satisfied: numpy>=1.19 in /usr/local/lib/python3.10/dist-packages (from envpool) (1.23.5)\n",
            "Collecting types-protobuf>=3.17.3 (from envpool)\n",
            "  Downloading types_protobuf-4.24.0.4-py3-none-any.whl (62 kB)\n",
            "\u001b[2K     \u001b[90m━━━━━━━━━━━━━━━━━━━━━━━━━━━━━━━━━━━━━━━━\u001b[0m \u001b[32m62.1/62.1 kB\u001b[0m \u001b[31m9.4 MB/s\u001b[0m eta \u001b[36m0:00:00\u001b[0m\n",
            "\u001b[?25hRequirement already satisfied: typing-extensions in /usr/local/lib/python3.10/dist-packages (from envpool) (4.5.0)\n",
            "Requirement already satisfied: packaging in /usr/local/lib/python3.10/dist-packages (from envpool) (23.2)\n",
            "Collecting optree>=0.6.0 (from envpool)\n",
            "  Downloading optree-0.9.2-cp310-cp310-manylinux_2_17_x86_64.manylinux2014_x86_64.whl (319 kB)\n",
            "\u001b[2K     \u001b[90m━━━━━━━━━━━━━━━━━━━━━━━━━━━━━━━━━━━━━━━━\u001b[0m \u001b[32m319.2/319.2 kB\u001b[0m \u001b[31m35.2 MB/s\u001b[0m eta \u001b[36m0:00:00\u001b[0m\n",
            "\u001b[?25hRequirement already satisfied: absl-py in /usr/local/lib/python3.10/dist-packages (from dm-env>=1.4->envpool) (1.4.0)\n",
            "Requirement already satisfied: dm-tree in /usr/local/lib/python3.10/dist-packages (from dm-env>=1.4->envpool) (0.1.8)\n",
            "Requirement already satisfied: cloudpickle>=1.2.0 in /usr/local/lib/python3.10/dist-packages (from gym>=0.18->envpool) (2.2.1)\n",
            "Requirement already satisfied: gym-notices>=0.0.4 in /usr/local/lib/python3.10/dist-packages (from gym>=0.18->envpool) (0.0.8)\n",
            "Requirement already satisfied: farama-notifications>=0.0.1 in /usr/local/lib/python3.10/dist-packages (from gymnasium>=0.26->envpool) (0.0.4)\n",
            "Installing collected packages: types-protobuf, optree, dm-env, envpool\n",
            "Successfully installed dm-env-1.6 envpool-0.8.4 optree-0.9.2 types-protobuf-4.24.0.4\n"
          ]
        }
      ],
      "source": [
        "!pip install gymnasium\n",
        "!pip install stable_baselines3\n",
        "!pip install swig\n",
        "!pip install gymnasium[box2d]\n",
        "!pip install tianshou\n",
        "!pip install \"gym[atari, accept-rom-license]\"\n",
        "!gym[accept-rom-license]\n",
        "!pip install \"gymnasium[atari, accept-rom-license]\"\n",
        "!pip install envpool"
      ]
    },
    {
      "cell_type": "code",
      "execution_count": 83,
      "metadata": {
        "id": "svR1_jsd5JnH",
        "colab": {
          "base_uri": "https://localhost:8080/"
        },
        "outputId": "84d433f2-6441-4899-df98-45eaa17780a1"
      },
      "outputs": [
        {
          "output_type": "stream",
          "name": "stdout",
          "text": [
            "Requirement already satisfied: gymnasium[classic_control] in /usr/local/lib/python3.10/dist-packages (0.29.1)\n",
            "Requirement already satisfied: numpy>=1.21.0 in /usr/local/lib/python3.10/dist-packages (from gymnasium[classic_control]) (1.23.5)\n",
            "Requirement already satisfied: cloudpickle>=1.2.0 in /usr/local/lib/python3.10/dist-packages (from gymnasium[classic_control]) (2.2.1)\n",
            "Requirement already satisfied: typing-extensions>=4.3.0 in /usr/local/lib/python3.10/dist-packages (from gymnasium[classic_control]) (4.5.0)\n",
            "Requirement already satisfied: farama-notifications>=0.0.1 in /usr/local/lib/python3.10/dist-packages (from gymnasium[classic_control]) (0.0.4)\n",
            "Requirement already satisfied: pygame>=2.1.3 in /usr/local/lib/python3.10/dist-packages (from gymnasium[classic_control]) (2.5.2)\n"
          ]
        }
      ],
      "source": [
        "%%bash\n",
        "pip3 install gymnasium[classic_control]"
      ]
    },
    {
      "cell_type": "code",
      "execution_count": 84,
      "metadata": {
        "id": "0V2kveZW5X8f",
        "colab": {
          "base_uri": "https://localhost:8080/"
        },
        "outputId": "abbed549-5043-4876-bfab-d56b471142d9"
      },
      "outputs": [
        {
          "output_type": "stream",
          "name": "stderr",
          "text": [
            "/usr/local/lib/python3.10/dist-packages/ipykernel/ipkernel.py:283: DeprecationWarning: `should_run_async` will not call `transform_cell` automatically in the future. Please pass the result to `transformed_cell` argument and any exception that happen during thetransform in `preprocessing_exc_tuple` in IPython 7.17 and above.\n",
            "  and should_run_async(code)\n"
          ]
        }
      ],
      "source": [
        "import gymnasium as gym\n",
        "import math\n",
        "import random\n",
        "import matplotlib\n",
        "import matplotlib.pyplot as plt\n",
        "from collections import namedtuple, deque\n",
        "from itertools import count\n",
        "\n",
        "import torch\n",
        "import torch.nn as nn\n",
        "import torch.optim as optim\n",
        "import torch.nn.functional as F\n",
        "\n",
        "env = gym.make(\"CartPole-v1\")\n",
        "\n",
        "# set up matplotlib\n",
        "is_ipython = 'inline' in matplotlib.get_backend()\n",
        "if is_ipython:\n",
        "    from IPython import display\n",
        "\n",
        "plt.ion()\n",
        "\n",
        "# if GPU is to be used\n",
        "#device = torch.device(\"cuda\" if torch.cuda.is_available() else \"cpu\")\n",
        "device = \"cpu\""
      ]
    },
    {
      "cell_type": "code",
      "execution_count": 85,
      "metadata": {
        "id": "Wa7gS2Cc_fEy",
        "colab": {
          "base_uri": "https://localhost:8080/"
        },
        "outputId": "6fd44ac8-3e59-4e4b-e4ce-1773dabf78c7"
      },
      "outputs": [
        {
          "output_type": "stream",
          "name": "stderr",
          "text": [
            "/usr/local/lib/python3.10/dist-packages/ipykernel/ipkernel.py:283: DeprecationWarning: `should_run_async` will not call `transform_cell` automatically in the future. Please pass the result to `transformed_cell` argument and any exception that happen during thetransform in `preprocessing_exc_tuple` in IPython 7.17 and above.\n",
            "  and should_run_async(code)\n"
          ]
        }
      ],
      "source": [
        "dqn_d = 1"
      ]
    },
    {
      "cell_type": "code",
      "execution_count": 87,
      "metadata": {
        "id": "WBYYtgWg5Z7Q"
      },
      "outputs": [],
      "source": [
        "Transition = namedtuple('Transition',\n",
        "                        ('state', 'action', 'next_state', 'reward'))\n",
        "\n",
        "\n",
        "class ReplayMemory(object):\n",
        "\n",
        "    def __init__(self, capacity):\n",
        "        self.memory = deque([], maxlen=capacity)\n",
        "\n",
        "    def push(self, *args):\n",
        "        \"\"\"Save a transition\"\"\"\n",
        "        self.memory.append(Transition(*args))\n",
        "\n",
        "    def sample(self, batch_size):\n",
        "        return random.sample(self.memory, batch_size)\n",
        "\n",
        "    def __len__(self):\n",
        "        return len(self.memory)"
      ]
    },
    {
      "cell_type": "code",
      "execution_count": 88,
      "metadata": {
        "id": "yUdKtbqo7pHH"
      },
      "outputs": [],
      "source": [
        "#class DQN(nn.Module):\n",
        "#\n",
        "#    def __init__(self, n_observations, n_actions):\n",
        "#        super(DQN, self).__init__()\n",
        "#        self.layer1 = nn.Linear(n_observations, 128)\n",
        "#        self.layer2 = nn.Linear(128, 128)\n",
        "#        self.layer3 = nn.Linear(128, n_actions)\n",
        "#\n",
        "#    # Called with either one element to determine next action, or a batch\n",
        "#    # during optimization. Returns tensor([[left0exp,right0exp]...]).\n",
        "#    def forward(self, x):\n",
        "#        x = F.relu(self.layer1(x))\n",
        "#        x = F.relu(self.layer2(x))\n",
        "#        return self.layer3(x)"
      ]
    },
    {
      "cell_type": "code",
      "execution_count": 89,
      "metadata": {
        "id": "kW_tjw3k-BQM"
      },
      "outputs": [],
      "source": [
        "class DQN(nn.Module):\n",
        "  def __init__(self, input_dimension, output_dim, d = dqn_d, n_hidden_layers = 2, hidden_dim = 128, device = \"cpu\"):\n",
        "    super().__init__()\n",
        "    self.d = d\n",
        "    self.theta = nn.Parameter(torch.randn(d))\n",
        "    self.n_hidden_layers = n_hidden_layers\n",
        "    self.hidden_dim = hidden_dim\n",
        "    self.input_dimension = input_dimension\n",
        "    self.output_dim = output_dim\n",
        "\n",
        "    first_layer_weight_D = input_dimension * hidden_dim\n",
        "    first_layer_bias_D = hidden_dim\n",
        "    hidden_layers_weight_D = hidden_dim * hidden_dim\n",
        "    hidden_layers_bias_D = hidden_dim\n",
        "    last_layer_weight_D = hidden_dim * output_dim\n",
        "    last_layer_bias_D = output_dim\n",
        "\n",
        "    self.D = first_layer_weight_D + first_layer_bias_D + hidden_layers_weight_D*n_hidden_layers + hidden_layers_bias_D*n_hidden_layers + last_layer_weight_D + last_layer_bias_D\n",
        "    self.projection = dense_matrix(self.D, self.d)\n",
        "\n",
        "    start_counter = 0\n",
        "    end_counter = 0\n",
        "    end_counter += first_layer_weight_D\n",
        "    self.first_layer_weight_edges = ((0,end_counter))\n",
        "    start_counter = end_counter\n",
        "    end_counter += first_layer_bias_D\n",
        "    self.first_layer_bias_edges = (start_counter, end_counter)\n",
        "    start_counter = end_counter\n",
        "    self.hidden_layers_weight_edges = []\n",
        "    self.hidden_layers_bias_edges = []\n",
        "    for i in range(n_hidden_layers):\n",
        "      end_counter += hidden_layers_weight_D\n",
        "      self.hidden_layers_weight_edges.append((start_counter, end_counter))\n",
        "      start_counter = end_counter\n",
        "      end_counter += hidden_layers_bias_D\n",
        "      self.hidden_layers_bias_edges.append((start_counter, end_counter))\n",
        "      start_counter = end_counter\n",
        "\n",
        "    end_counter += last_layer_weight_D\n",
        "    self.last_layer_weight_edges = ((start_counter, end_counter))\n",
        "    start_counter = end_counter\n",
        "    end_counter +=last_layer_bias_D\n",
        "    self.last_layer_bias_edges = ((start_counter, end_counter))\n",
        "    start_counter = end_counter\n",
        "\n",
        "    self.projection = self.projection.to(device)\n",
        "\n",
        "  def forward(self, x):\n",
        "\n",
        "\n",
        "    big_theta = self.projection @ self.theta\n",
        "    big_theta = big_theta/big_theta.std()\n",
        "    big_theta = big_theta - big_theta.mean()\n",
        "\n",
        "    first_layer_theta_weight = torch.reshape(big_theta[self.first_layer_weight_edges[0]:self.first_layer_weight_edges[1]], (self.hidden_dim, self.input_dimension))\n",
        "    first_layer_theta_bias = big_theta[self.first_layer_bias_edges[0]:self.first_layer_bias_edges[1]]\n",
        "    hidden_layers_theta_weight = []\n",
        "    hidden_layers_theta_bias = []\n",
        "    for i in range(self.n_hidden_layers):\n",
        "\n",
        "      hidden_layers_theta_weight.append(torch.reshape(big_theta[self.hidden_layers_weight_edges[i][0]:self.hidden_layers_weight_edges[i][1]],(self.hidden_dim, self.hidden_dim)))\n",
        "      hidden_layers_theta_bias.append(big_theta[self.hidden_layers_bias_edges[i][0]:self.hidden_layers_bias_edges[i][1]])\n",
        "\n",
        "    last_layer_theta_weight = torch.reshape(big_theta[self.last_layer_weight_edges[0]:self.last_layer_weight_edges[1]], (self.output_dim, self.hidden_dim))\n",
        "    last_layer_theta_bias = big_theta[self.last_layer_bias_edges[0]:self.last_layer_bias_edges[1]]\n",
        "\n",
        "    y = F.linear(x, first_layer_theta_weight/math.sqrt(first_layer_theta_weight.shape[1]), first_layer_theta_bias/math.sqrt(first_layer_theta_weight.shape[1]))\n",
        "    y = F.relu(y)\n",
        "    for i in range(self.n_hidden_layers):\n",
        "      y = F.linear(y,hidden_layers_theta_weight[i]/math.sqrt(hidden_layers_theta_weight[i].shape[1]), hidden_layers_theta_bias[i]/math.sqrt(hidden_layers_theta_weight[i].shape[1]))\n",
        "      y = F.relu(y)\n",
        "\n",
        "    y = F.linear(y, last_layer_theta_weight/math.sqrt(last_layer_theta_weight.shape[1]), last_layer_theta_bias/math.sqrt(last_layer_theta_weight.shape[1]))\n",
        "    return y"
      ]
    },
    {
      "cell_type": "code",
      "execution_count": 90,
      "metadata": {
        "id": "rQ-hIaSp5cwB"
      },
      "outputs": [],
      "source": [
        "\n",
        "    def __init__(self, n_observations, n_actions):\n",
        "        super(DQN, self).__init__()\n",
        "        self.layer1 = nn.Linear(n_observations, 128)\n",
        "        self.layer2 = nn.Linear(128, 128)\n",
        "        self.layer3 = nn.Linear(128, n_actions)\n",
        "\n",
        "    # Called with either one element to determine next action, or a batch\n",
        "    # during optimization. Returns tensor([[left0exp,right0exp]...]).\n",
        "    def forward(self, x):\n",
        "        x = F.relu(self.layer1(x))\n",
        "        x = F.relu(self.layer2(x))\n",
        "        return self.layer3(x)"
      ]
    },
    {
      "cell_type": "code",
      "execution_count": 91,
      "metadata": {
        "id": "uyNpCo2R5gi8"
      },
      "outputs": [],
      "source": [
        "# BATCH_SIZE is the number of transitions sampled from the replay buffer\n",
        "# GAMMA is the discount factor as mentioned in the previous section\n",
        "# EPS_START is the starting value of epsilon\n",
        "# EPS_END is the final value of epsilon\n",
        "# EPS_DECAY controls the rate of exponential decay of epsilon, higher means a slower decay\n",
        "# TAU is the update rate of the target network\n",
        "# LR is the learning rate of the ``AdamW`` optimizer\n",
        "BATCH_SIZE = 128\n",
        "GAMMA = 0.99\n",
        "EPS_START = 0.9\n",
        "EPS_END = 0.05\n",
        "EPS_DECAY = 1000\n",
        "TAU = 0.005\n",
        "LR = 1e-4\n",
        "\n",
        "# Get number of actions from gym action space\n",
        "n_actions = env.action_space.n\n",
        "# Get the number of state observations\n",
        "state, info = env.reset()\n",
        "n_observations = len(state)\n",
        "\n",
        "policy_net = DQN(n_observations, n_actions).to(device)\n",
        "target_net = DQN(n_observations, n_actions).to(device)\n",
        "target_net.load_state_dict(policy_net.state_dict())\n",
        "\n",
        "#optimizer = optim.AdamW(policy_net.parameters(), lr=LR, amsgrad=True)\n",
        "optimizer = optim.AdamW([policy_net.theta], lr=LR, amsgrad=True)\n",
        "\n",
        "memory = ReplayMemory(10000)\n",
        "\n",
        "\n",
        "steps_done = 0\n",
        "\n",
        "\n",
        "def select_action(state):\n",
        "    global steps_done\n",
        "    sample = random.random()\n",
        "    eps_threshold = EPS_END + (EPS_START - EPS_END) * \\\n",
        "        math.exp(-1. * steps_done / EPS_DECAY)\n",
        "    steps_done += 1\n",
        "    if sample > eps_threshold:\n",
        "        with torch.no_grad():\n",
        "            # t.max(1) will return the largest column value of each row.\n",
        "            # second column on max result is index of where max element was\n",
        "            # found, so we pick action with the larger expected reward.\n",
        "            return policy_net(state).max(1)[1].view(1, 1)\n",
        "    else:\n",
        "        return torch.tensor([[env.action_space.sample()]], device=device, dtype=torch.long)\n",
        "\n",
        "\n",
        "episode_durations = []\n",
        "\n",
        "\n",
        "def plot_durations(show_result=False):\n",
        "    plt.figure(1)\n",
        "    durations_t = torch.tensor(episode_durations, dtype=torch.float)\n",
        "    if show_result:\n",
        "        plt.title('Result')\n",
        "    else:\n",
        "        plt.clf()\n",
        "        plt.title('Training...')\n",
        "    plt.xlabel('Episode')\n",
        "    plt.ylabel('Duration')\n",
        "    plt.plot(durations_t.numpy())\n",
        "    # Take 100 episode averages and plot them too\n",
        "    if len(durations_t) >= 100:\n",
        "        means = durations_t.unfold(0, 100, 1).mean(1).view(-1)\n",
        "        means = torch.cat((torch.zeros(99), means))\n",
        "        plt.plot(means.numpy())\n",
        "\n",
        "    plt.pause(0.001)  # pause a bit so that plots are updated\n",
        "    if is_ipython:\n",
        "        if not show_result:\n",
        "            display.display(plt.gcf())\n",
        "            display.clear_output(wait=True)\n",
        "        else:\n",
        "            display.display(plt.gcf())"
      ]
    },
    {
      "cell_type": "code",
      "execution_count": 92,
      "metadata": {
        "id": "iq3Tb30p5kBq"
      },
      "outputs": [],
      "source": [
        "def optimize_model():\n",
        "    if len(memory) < BATCH_SIZE:\n",
        "        return\n",
        "    transitions = memory.sample(BATCH_SIZE)\n",
        "    # Transpose the batch (see https://stackoverflow.com/a/19343/3343043 for\n",
        "    # detailed explanation). This converts batch-array of Transitions\n",
        "    # to Transition of batch-arrays.\n",
        "    batch = Transition(*zip(*transitions))\n",
        "\n",
        "    # Compute a mask of non-final states and concatenate the batch elements\n",
        "    # (a final state would've been the one after which simulation ended)\n",
        "    non_final_mask = torch.tensor(tuple(map(lambda s: s is not None,\n",
        "                                          batch.next_state)), device=device, dtype=torch.bool)\n",
        "    non_final_next_states = torch.cat([s for s in batch.next_state\n",
        "                                                if s is not None])\n",
        "    state_batch = torch.cat(batch.state)\n",
        "    action_batch = torch.cat(batch.action)\n",
        "    reward_batch = torch.cat(batch.reward)\n",
        "\n",
        "    # Compute Q(s_t, a) - the model computes Q(s_t), then we select the\n",
        "    # columns of actions taken. These are the actions which would've been taken\n",
        "    # for each batch state according to policy_net\n",
        "    state_action_values = policy_net(state_batch).gather(1, action_batch)\n",
        "\n",
        "    # Compute V(s_{t+1}) for all next states.\n",
        "    # Expected values of actions for non_final_next_states are computed based\n",
        "    # on the \"older\" target_net; selecting their best reward with max(1)[0].\n",
        "    # This is merged based on the mask, such that we'll have either the expected\n",
        "    # state value or 0 in case the state was final.\n",
        "    next_state_values = torch.zeros(BATCH_SIZE, device=device)\n",
        "    with torch.no_grad():\n",
        "        next_state_values[non_final_mask] = target_net(non_final_next_states).max(1)[0]\n",
        "    # Compute the expected Q values\n",
        "    expected_state_action_values = (next_state_values * GAMMA) + reward_batch\n",
        "\n",
        "    # Compute Huber loss\n",
        "    criterion = nn.SmoothL1Loss()\n",
        "    loss = criterion(state_action_values, expected_state_action_values.unsqueeze(1))\n",
        "\n",
        "    # Optimize the model\n",
        "    optimizer.zero_grad()\n",
        "    loss.backward()\n",
        "    # In-place gradient clipping\n",
        "    torch.nn.utils.clip_grad_value_([policy_net.theta], 100)\n",
        "    optimizer.step()"
      ]
    },
    {
      "cell_type": "code",
      "execution_count": 93,
      "metadata": {
        "id": "QSKXoMzM5nEd",
        "colab": {
          "base_uri": "https://localhost:8080/",
          "height": 524
        },
        "outputId": "1138fef4-6310-417b-cf44-a3a388bd0a7d"
      },
      "outputs": [
        {
          "output_type": "stream",
          "name": "stdout",
          "text": [
            "Complete\n"
          ]
        },
        {
          "output_type": "display_data",
          "data": {
            "text/plain": [
              "<Figure size 640x480 with 1 Axes>"
            ],
            "image/png": "[encoded data removed]"
          },
          "metadata": {}
        },
        {
          "output_type": "display_data",
          "data": {
            "text/plain": [
              "<Figure size 640x480 with 0 Axes>"
            ]
          },
          "metadata": {}
        },
        {
          "output_type": "display_data",
          "data": {
            "text/plain": [
              "<Figure size 640x480 with 0 Axes>"
            ]
          },
          "metadata": {}
        }
      ],
      "source": [
        "if torch.cuda.is_available():\n",
        "    num_episodes = 600\n",
        "else:\n",
        "    num_episodes = 50\n",
        "\n",
        "for i_episode in range(num_episodes):\n",
        "    # Initialize the environment and get it's state\n",
        "    state, info = env.reset()\n",
        "    state = torch.tensor(state, dtype=torch.float32, device=device).unsqueeze(0)\n",
        "    for t in count():\n",
        "        action = select_action(state)\n",
        "        observation, reward, terminated, truncated, _ = env.step(action.item())\n",
        "        reward = torch.tensor([reward], device=device)\n",
        "        done = terminated or truncated\n",
        "\n",
        "        if terminated:\n",
        "            next_state = None\n",
        "        else:\n",
        "            next_state = torch.tensor(observation, dtype=torch.float32, device=device).unsqueeze(0)\n",
        "\n",
        "        # Store the transition in memory\n",
        "        memory.push(state, action, next_state, reward)\n",
        "\n",
        "        # Move to the next state\n",
        "        state = next_state\n",
        "\n",
        "        # Perform one step of the optimization (on the policy network)\n",
        "        optimize_model()\n",
        "\n",
        "        # Soft update of the target network's weights\n",
        "        # θ′ ← τ θ + (1 −τ )θ′\n",
        "        target_net_state_dict = target_net.state_dict()\n",
        "        policy_net_state_dict = policy_net.state_dict()\n",
        "        for key in policy_net_state_dict:\n",
        "            target_net_state_dict[key] = policy_net_state_dict[key]*TAU + target_net_state_dict[key]*(1-TAU)\n",
        "        target_net.load_state_dict(target_net_state_dict)\n",
        "\n",
        "        if done:\n",
        "            episode_durations.append(t + 1)\n",
        "            plot_durations()\n",
        "            break\n",
        "\n",
        "print('Complete')\n",
        "plot_durations(show_result=True)\n",
        "plt.ioff()\n",
        "plt.show()"
      ]
    }
  ]
}